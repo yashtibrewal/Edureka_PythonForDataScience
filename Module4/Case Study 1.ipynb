{
 "cells": [
  {
   "cell_type": "code",
   "execution_count": 2,
   "metadata": {},
   "outputs": [],
   "source": [
    "import csv\n",
    "import numpy as np\n",
    "import pandas as pd"
   ]
  },
  {
   "cell_type": "markdown",
   "metadata": {},
   "source": [
    "## Question 1"
   ]
  },
  {
   "cell_type": "code",
   "execution_count": 3,
   "metadata": {},
   "outputs": [
    {
     "name": "stdout",
     "output_type": "stream",
     "text": [
      "['Salary' '140' '30' '35.1' '30' '80' '30' '60' '31.1' '125' '51' '3' '46'\n",
      " '150' '3' '130' '15' '130' '84' '190' '74' '73' '10' '50' '7' '9.5'\n",
      " '15.2' '28.6' '20' '72' '81' '100' '90' '90' '35' '30' '25' '52' '9' '63'\n",
      " '72' '16' '92' '106' '2.5' '9' '32' '32' '55' '52' '28' '20' '14.7'\n",
      " '22.3' '34.8' '84' '19' '160' '65' '55' '4.6' '102' '20' '62' '55' '45.6'\n",
      " '40' '24' '35' '48' '20' '40.7' '15' '0.25' '152' '39.8' '12' '30' '120'\n",
      " '1.7' '36' '96' '38' '90' '9' '25.8' '22' '38.8' '72' '89' '41' '89' '25'\n",
      " '52' '115' '66' '18.6' '152' '1.8' '35' '4']\n",
      "['Gender' '1' '0' '0' '1' '0' '0' '1' '0' '1' '1' '1' '1' '1' '1' '1' '0'\n",
      " '1' '0' '1' '1' '0' '0' '0' '0' '0' '1' '1' '0' '0' '1' '0' '0' '0' '1'\n",
      " '0' '1' '0' '0' '1' '1' '1' '0' '1' '1' '0' '0' '0' '1' '1' '0' '0' '0'\n",
      " '1' '0' '0' '1' '1' '0' '0' '1' '1' '1' '0' '1' '1' '0' '0' '1' '0' '0'\n",
      " '0' '1' '0' '1' '0' '0' '1' '1' '1' '1' '1' '0' '1' '1' '0' '0' '0' '1'\n",
      " '1' '0' '1' '0' '1' '0' '0' '1' '1' '1' '0' '0']\n",
      "['Age' '47' '65' '56' '23' '53' '27' '53' '30' '44' '63' '22' '59' '60'\n",
      " '28' '65' '25' '65' '47' '66' '45' '46' '24' '60' '63' '27' '66' '36'\n",
      " '30' '51' '65' '45' '52' '54' '30' '52' '26' '49' '22' '34' '60' '28'\n",
      " '58' '77' '67' '27' '48' '45' '49' '36' '65' '32' '49' '67' '22' '49'\n",
      " '43' '61' '43' '52' '51' '66' '29' '62' '56' '61' '56' '41' '24' '60'\n",
      " '43' '57' '23' '53' '71' '20' '27' '69' '58' '37' '32' '33' '32' '60'\n",
      " '71' '30' '62' '54' '42' '62' '51' '71' '29' '55' '54' '55' '26' '56'\n",
      " '28' '44' '24']\n",
      "['PhD' '1' '1' '0' '0' '1' '0' '0' '0' '1' '1' '0' '0' '1' '0' '0' '0' '0'\n",
      " '1' '1' '1' '0' '0' '0' '0' '0' '1' '1' '0' '1' '1' '1' '1' '1' '0' '0'\n",
      " '0' '0' '0' '1' '0' '0' '1' '1' '0' '0' '1' '0' '1' '0' '1' '0' '0' '0'\n",
      " '0' '1' '0' '1' '1' '0' '0' '1' '0' '0' '1' '0' '0' '0' '0' '0' '0' '0'\n",
      " '0' '0' '1' '0' '0' '1' '1' '0' '1' '1' '1' '0' '0' '0' '0' '0' '1' '0'\n",
      " '1' '1' '0' '1' '0' '1' '0' '1' '0' '0' '0']\n",
      "101 101\n"
     ]
    }
   ],
   "source": [
    "\n",
    "file_reader = csv.reader(open(\"SalaryGender.csv\",'r'),delimiter = \",\")\n",
    "salary_col = []\n",
    "gender_col = []\n",
    "age_col = []\n",
    "phd_col = []\n",
    "first = True\n",
    "for row in file_reader:\n",
    "# if we do not need the headings...\n",
    "#     if first:\n",
    "#         first=False\n",
    "#         continue\n",
    "    salary_col.append(row[0])\n",
    "    gender_col.append(row[1])\n",
    "    age_col.append(row[2])\n",
    "    phd_col.append(row[3])\n",
    "\n",
    "\n",
    "salary_col = np.array(salary_col)\n",
    "print(salary_col)\n",
    "gender_col = np.array(gender_col)\n",
    "print(gender_col)\n",
    "age_col = np.array(age_col)\n",
    "print(age_col)\n",
    "phd_col = np.array(phd_col)\n",
    "print(phd_col)\n",
    "print(len(phd_col),len(gender_col))"
   ]
  },
  {
   "cell_type": "markdown",
   "metadata": {},
   "source": [
    "## Question 2"
   ]
  },
  {
   "cell_type": "code",
   "execution_count": 4,
   "metadata": {},
   "outputs": [
    {
     "name": "stdout",
     "output_type": "stream",
     "text": [
      "100 100\n",
      "number of male phds 24\n",
      "number of wodman phds 76\n"
     ]
    }
   ],
   "source": [
    "count = 0\n",
    "\n",
    "# print(len(phd_col),len(gender_col))\n",
    "gender_col = gender_col[1:]\n",
    "gender_col = gender_col.astype(int)\n",
    "phd_col = phd_col[1:]\n",
    "phd_col = phd_col.astype(int)\n",
    "data = np.logical_and(gender_col , phd_col)\n",
    "# print(data)\n",
    "print(len(phd_col),len(gender_col))\n",
    "for row in data:\n",
    "    if row:\n",
    "        count+=1\n",
    "print(\"number of male phds\",count)\n",
    "print(\"number of wodman phds\",len(data)-count)\n"
   ]
  },
  {
   "cell_type": "markdown",
   "metadata": {},
   "source": [
    "## Question3"
   ]
  },
  {
   "cell_type": "code",
   "execution_count": 16,
   "metadata": {},
   "outputs": [
    {
     "name": "stdout",
     "output_type": "stream",
     "text": [
      "    Gender  PhD\n",
      "0        1    1\n",
      "1        0    1\n",
      "4        0    1\n",
      "8        1    1\n",
      "9        1    1\n",
      "12       1    1\n",
      "17       0    1\n",
      "18       1    1\n",
      "19       1    1\n",
      "25       1    1\n",
      "26       1    1\n",
      "28       0    1\n",
      "29       1    1\n",
      "30       0    1\n",
      "31       0    1\n",
      "32       0    1\n",
      "38       1    1\n",
      "41       0    1\n",
      "42       1    1\n",
      "45       0    1\n",
      "47       1    1\n",
      "49       0    1\n",
      "54       0    1\n",
      "56       1    1\n",
      "57       0    1\n",
      "60       1    1\n",
      "63       1    1\n",
      "73       1    1\n",
      "76       1    1\n",
      "77       1    1\n",
      "79       1    1\n",
      "80       1    1\n",
      "81       0    1\n",
      "87       1    1\n",
      "89       0    1\n",
      "90       1    1\n",
      "92       1    1\n",
      "94       0    1\n",
      "96       1    1\n"
     ]
    }
   ],
   "source": [
    "data = pd.read_csv(\"SalaryGender.csv\")\n",
    "# print(data)\n",
    "data = data.drop([\"Salary\"],axis=1).drop([\"Age\"],axis=1)\n",
    "data = data[data.PhD == 1]\n",
    "print(data)"
   ]
  },
  {
   "cell_type": "markdown",
   "metadata": {},
   "source": [
    "## Question 4"
   ]
  },
  {
   "cell_type": "code",
   "execution_count": 17,
   "metadata": {},
   "outputs": [
    {
     "data": {
      "text/plain": [
       "39"
      ]
     },
     "execution_count": 17,
     "metadata": {},
     "output_type": "execute_result"
    }
   ],
   "source": [
    "len(data)"
   ]
  },
  {
   "cell_type": "markdown",
   "metadata": {},
   "source": [
    "## Question 5"
   ]
  },
  {
   "cell_type": "code",
   "execution_count": 18,
   "metadata": {},
   "outputs": [
    {
     "name": "stdout",
     "output_type": "stream",
     "text": [
      "[4, 2, 1, 1, 3, 2, 0, 0, 0, 1]\n"
     ]
    }
   ],
   "source": [
    "arr = [0, 5, 4, 0, 4, 4, 3, 0, 0, 5, 2, 1, 1, 9]\n",
    "counter = []\n",
    "for i in range(0,10):\n",
    "    counter.append(arr.count(i))\n",
    "print(counter)"
   ]
  },
  {
   "cell_type": "markdown",
   "metadata": {},
   "source": [
    "## Question 6"
   ]
  },
  {
   "cell_type": "code",
   "execution_count": 19,
   "metadata": {},
   "outputs": [
    {
     "name": "stdout",
     "output_type": "stream",
     "text": [
      "[ 6  7  8  9 10 11]\n"
     ]
    }
   ],
   "source": [
    "arr = np.array([[0, 1, 2], [ 3, 4, 5], [ 6, 7, 8],[ 9, 10, 11]])\n",
    "arr = arr[arr>5]\n",
    "print(arr)"
   ]
  },
  {
   "cell_type": "markdown",
   "metadata": {},
   "source": [
    "## Question 7"
   ]
  },
  {
   "cell_type": "code",
   "execution_count": 39,
   "metadata": {},
   "outputs": [
    {
     "name": "stdout",
     "output_type": "stream",
     "text": [
      "[1. 2. 3. 4. 5.]\n"
     ]
    }
   ],
   "source": [
    "arr = np.array([ np.nan, 1., 2., np.nan, 3., 4., 5.])\n",
    "print(arr[~np.isnan(arr)])"
   ]
  },
  {
   "cell_type": "markdown",
   "metadata": {},
   "source": [
    "## Question 8"
   ]
  },
  {
   "cell_type": "code",
   "execution_count": 46,
   "metadata": {},
   "outputs": [
    {
     "name": "stdout",
     "output_type": "stream",
     "text": [
      "0.006346020524932716\n",
      "0.9904907778593572\n"
     ]
    }
   ],
   "source": [
    "arr = np.random.rand(10,10)\n",
    "print(arr.min())\n",
    "print(arr.max())"
   ]
  },
  {
   "cell_type": "markdown",
   "metadata": {},
   "source": [
    "## Question 9"
   ]
  },
  {
   "cell_type": "code",
   "execution_count": 50,
   "metadata": {},
   "outputs": [
    {
     "data": {
      "text/plain": [
       "0.4687955863982528"
      ]
     },
     "execution_count": 50,
     "metadata": {},
     "output_type": "execute_result"
    }
   ],
   "source": [
    "vector = np.random.rand(20)\n",
    "vector.mean()"
   ]
  },
  {
   "cell_type": "markdown",
   "metadata": {},
   "source": [
    "## Question 10"
   ]
  },
  {
   "cell_type": "code",
   "execution_count": 62,
   "metadata": {},
   "outputs": [
    {
     "data": {
      "text/plain": [
       "array([ 0,  1, -3, -4, -5, -6, -7, -8, -9])"
      ]
     },
     "execution_count": 62,
     "metadata": {},
     "output_type": "execute_result"
    }
   ],
   "source": [
    "arr = np.arange(0,10)\n",
    "arr = np.concatenate((arr[0:2],-1*arr[3:10]),axis=0)\n",
    "arr"
   ]
  },
  {
   "cell_type": "markdown",
   "metadata": {},
   "source": [
    "## Question 11 Doubt: How to ONLY sort one columns, here all are sorted."
   ]
  },
  {
   "cell_type": "code",
   "execution_count": 70,
   "metadata": {
    "scrolled": true
   },
   "outputs": [
    {
     "name": "stdout",
     "output_type": "stream",
     "text": [
      "before sort\n",
      " [[0.61058141 0.54307012 0.06050171]\n",
      " [0.65318947 0.81741693 0.30162241]\n",
      " [0.8728179  0.08475891 0.91256517]]\n",
      "after sort\n",
      " [[0.61058141 0.08475891 0.06050171]\n",
      " [0.65318947 0.54307012 0.30162241]\n",
      " [0.8728179  0.81741693 0.91256517]]\n"
     ]
    }
   ],
   "source": [
    "arr = np.random.rand(3,3)\n",
    "print(\"before sort\\n\",arr)\n",
    "arr.sort(axis=0)\n",
    "print(\"after sort\\n\",arr)\n"
   ]
  },
  {
   "cell_type": "markdown",
   "metadata": {},
   "source": [
    "## Question 12"
   ]
  },
  {
   "cell_type": "code",
   "execution_count": 78,
   "metadata": {},
   "outputs": [
    {
     "data": {
      "text/plain": [
       "array([[2.06872265, 0.63983054],\n",
       "       [0.92967843, 2.54960821]])"
      ]
     },
     "execution_count": 78,
     "metadata": {},
     "output_type": "execute_result"
    }
   ],
   "source": [
    "arr = np.random.rand(2,2,2,2)\n",
    "arr.sum(axis=(2,3))"
   ]
  },
  {
   "cell_type": "markdown",
   "metadata": {},
   "source": [
    "## Question 13"
   ]
  },
  {
   "cell_type": "code",
   "execution_count": 84,
   "metadata": {},
   "outputs": [
    {
     "name": "stdout",
     "output_type": "stream",
     "text": [
      "before swap\n",
      " [[0.11576429 0.85868778]\n",
      " [0.65682344 0.78948754]]\n",
      "after swap\n",
      " [[0.65682344 0.78948754]\n",
      " [0.11576429 0.85868778]]\n"
     ]
    }
   ],
   "source": [
    "arr = np.random.rand(2,2)\n",
    "print(\"before swap\\n\",arr)\n",
    "temp = arr[0].copy()\n",
    "arr[0] = arr[1]\n",
    "arr[1] = temp\n",
    "print(\"after swap\\n\",arr)"
   ]
  },
  {
   "cell_type": "markdown",
   "metadata": {},
   "source": [
    "## Question 14"
   ]
  },
  {
   "cell_type": "code",
   "execution_count": 89,
   "metadata": {},
   "outputs": [
    {
     "data": {
      "text/plain": [
       "1"
      ]
     },
     "execution_count": 89,
     "metadata": {},
     "output_type": "execute_result"
    }
   ],
   "source": [
    "arr = np.random.rand(3)\n",
    "arr = np.linalg.matrix_rank(arr)\n",
    "arr"
   ]
  },
  {
   "cell_type": "code",
   "execution_count": null,
   "metadata": {},
   "outputs": [],
   "source": []
  }
 ],
 "metadata": {
  "kernelspec": {
   "display_name": "Python 3",
   "language": "python",
   "name": "python3"
  },
  "language_info": {
   "codemirror_mode": {
    "name": "ipython",
    "version": 3
   },
   "file_extension": ".py",
   "mimetype": "text/x-python",
   "name": "python",
   "nbconvert_exporter": "python",
   "pygments_lexer": "ipython3",
   "version": "3.7.1"
  }
 },
 "nbformat": 4,
 "nbformat_minor": 2
}
