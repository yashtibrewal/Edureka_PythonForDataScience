{
 "cells": [
  {
   "cell_type": "code",
   "execution_count": 5,
   "metadata": {},
   "outputs": [],
   "source": [
    "import csv\n",
    "import numpy as np\n",
    "import pandas as pd"
   ]
  },
  {
   "cell_type": "markdown",
   "metadata": {},
   "source": [
    "## Question 1"
   ]
  },
  {
   "cell_type": "code",
   "execution_count": 3,
   "metadata": {},
   "outputs": [
    {
     "name": "stdout",
     "output_type": "stream",
     "text": [
      "['Salary' '140' '30' '35.1' '30' '80' '30' '60' '31.1' '125' '51' '3' '46'\n",
      " '150' '3' '130' '15' '130' '84' '190' '74' '73' '10' '50' '7' '9.5'\n",
      " '15.2' '28.6' '20' '72' '81' '100' '90' '90' '35' '30' '25' '52' '9' '63'\n",
      " '72' '16' '92' '106' '2.5' '9' '32' '32' '55' '52' '28' '20' '14.7'\n",
      " '22.3' '34.8' '84' '19' '160' '65' '55' '4.6' '102' '20' '62' '55' '45.6'\n",
      " '40' '24' '35' '48' '20' '40.7' '15' '0.25' '152' '39.8' '12' '30' '120'\n",
      " '1.7' '36' '96' '38' '90' '9' '25.8' '22' '38.8' '72' '89' '41' '89' '25'\n",
      " '52' '115' '66' '18.6' '152' '1.8' '35' '4']\n",
      "['Gender' '1' '0' '0' '1' '0' '0' '1' '0' '1' '1' '1' '1' '1' '1' '1' '0'\n",
      " '1' '0' '1' '1' '0' '0' '0' '0' '0' '1' '1' '0' '0' '1' '0' '0' '0' '1'\n",
      " '0' '1' '0' '0' '1' '1' '1' '0' '1' '1' '0' '0' '0' '1' '1' '0' '0' '0'\n",
      " '1' '0' '0' '1' '1' '0' '0' '1' '1' '1' '0' '1' '1' '0' '0' '1' '0' '0'\n",
      " '0' '1' '0' '1' '0' '0' '1' '1' '1' '1' '1' '0' '1' '1' '0' '0' '0' '1'\n",
      " '1' '0' '1' '0' '1' '0' '0' '1' '1' '1' '0' '0']\n",
      "['Age' '47' '65' '56' '23' '53' '27' '53' '30' '44' '63' '22' '59' '60'\n",
      " '28' '65' '25' '65' '47' '66' '45' '46' '24' '60' '63' '27' '66' '36'\n",
      " '30' '51' '65' '45' '52' '54' '30' '52' '26' '49' '22' '34' '60' '28'\n",
      " '58' '77' '67' '27' '48' '45' '49' '36' '65' '32' '49' '67' '22' '49'\n",
      " '43' '61' '43' '52' '51' '66' '29' '62' '56' '61' '56' '41' '24' '60'\n",
      " '43' '57' '23' '53' '71' '20' '27' '69' '58' '37' '32' '33' '32' '60'\n",
      " '71' '30' '62' '54' '42' '62' '51' '71' '29' '55' '54' '55' '26' '56'\n",
      " '28' '44' '24']\n",
      "['PhD' '1' '1' '0' '0' '1' '0' '0' '0' '1' '1' '0' '0' '1' '0' '0' '0' '0'\n",
      " '1' '1' '1' '0' '0' '0' '0' '0' '1' '1' '0' '1' '1' '1' '1' '1' '0' '0'\n",
      " '0' '0' '0' '1' '0' '0' '1' '1' '0' '0' '1' '0' '1' '0' '1' '0' '0' '0'\n",
      " '0' '1' '0' '1' '1' '0' '0' '1' '0' '0' '1' '0' '0' '0' '0' '0' '0' '0'\n",
      " '0' '0' '1' '0' '0' '1' '1' '0' '1' '1' '1' '0' '0' '0' '0' '0' '1' '0'\n",
      " '1' '1' '0' '1' '0' '1' '0' '1' '0' '0' '0']\n",
      "101 101\n"
     ]
    }
   ],
   "source": [
    "\n",
    "file_reader = csv.reader(open(\"SalaryGender.csv\",'r'),delimiter = \",\")\n",
    "salary_col = []\n",
    "gender_col = []\n",
    "age_col = []\n",
    "phd_col = []\n",
    "first = True\n",
    "for row in file_reader:\n",
    "# if we do not need the headings...\n",
    "#     if first:\n",
    "#         first=False\n",
    "#         continue\n",
    "    salary_col.append(row[0])\n",
    "    gender_col.append(row[1])\n",
    "    age_col.append(row[2])\n",
    "    phd_col.append(row[3])\n",
    "\n",
    "\n",
    "salary_col = np.array(salary_col)\n",
    "print(salary_col)\n",
    "gender_col = np.array(gender_col)\n",
    "print(gender_col)\n",
    "age_col = np.array(age_col)\n",
    "print(age_col)\n",
    "phd_col = np.array(phd_col)\n",
    "print(phd_col)\n",
    "print(len(phd_col),len(gender_col))"
   ]
  },
  {
   "cell_type": "markdown",
   "metadata": {},
   "source": [
    "## Question 2"
   ]
  },
  {
   "cell_type": "code",
   "execution_count": 4,
   "metadata": {},
   "outputs": [
    {
     "name": "stdout",
     "output_type": "stream",
     "text": [
      "100 100\n",
      "number of male phds 24\n",
      "number of wodman phds 76\n"
     ]
    }
   ],
   "source": [
    "count = 0\n",
    "\n",
    "# print(len(phd_col),len(gender_col))\n",
    "gender_col = gender_col[1:]\n",
    "gender_col = gender_col.astype(int)\n",
    "phd_col = phd_col[1:]\n",
    "phd_col = phd_col.astype(int)\n",
    "data = np.logical_and(gender_col , phd_col)\n",
    "# print(data)\n",
    "print(len(phd_col),len(gender_col))\n",
    "for row in data:\n",
    "    if row:\n",
    "        count+=1\n",
    "print(\"number of male phds\",count)\n",
    "print(\"number of wodman phds\",len(data)-count)\n"
   ]
  },
  {
   "cell_type": "markdown",
   "metadata": {},
   "source": [
    "## Question3"
   ]
  },
  {
   "cell_type": "code",
   "execution_count": 16,
   "metadata": {},
   "outputs": [
    {
     "name": "stdout",
     "output_type": "stream",
     "text": [
      "    Gender  PhD\n",
      "0        1    1\n",
      "1        0    1\n",
      "4        0    1\n",
      "8        1    1\n",
      "9        1    1\n",
      "12       1    1\n",
      "17       0    1\n",
      "18       1    1\n",
      "19       1    1\n",
      "25       1    1\n",
      "26       1    1\n",
      "28       0    1\n",
      "29       1    1\n",
      "30       0    1\n",
      "31       0    1\n",
      "32       0    1\n",
      "38       1    1\n",
      "41       0    1\n",
      "42       1    1\n",
      "45       0    1\n",
      "47       1    1\n",
      "49       0    1\n",
      "54       0    1\n",
      "56       1    1\n",
      "57       0    1\n",
      "60       1    1\n",
      "63       1    1\n",
      "73       1    1\n",
      "76       1    1\n",
      "77       1    1\n",
      "79       1    1\n",
      "80       1    1\n",
      "81       0    1\n",
      "87       1    1\n",
      "89       0    1\n",
      "90       1    1\n",
      "92       1    1\n",
      "94       0    1\n",
      "96       1    1\n"
     ]
    }
   ],
   "source": [
    "data = pd.read_csv(\"SalaryGender.csv\")\n",
    "# print(data)\n",
    "data = data.drop([\"Salary\"],axis=1).drop([\"Age\"],axis=1)\n",
    "data = data[data.PhD == 1]\n",
    "print(data)"
   ]
  },
  {
   "cell_type": "markdown",
   "metadata": {},
   "source": [
    "## Question 4"
   ]
  },
  {
   "cell_type": "code",
   "execution_count": 17,
   "metadata": {},
   "outputs": [
    {
     "data": {
      "text/plain": [
       "39"
      ]
     },
     "execution_count": 17,
     "metadata": {},
     "output_type": "execute_result"
    }
   ],
   "source": [
    "len(data)"
   ]
  },
  {
   "cell_type": "markdown",
   "metadata": {},
   "source": [
    "## Question 5"
   ]
  },
  {
   "cell_type": "code",
   "execution_count": 18,
   "metadata": {},
   "outputs": [
    {
     "name": "stdout",
     "output_type": "stream",
     "text": [
      "[4, 2, 1, 1, 3, 2, 0, 0, 0, 1]\n"
     ]
    }
   ],
   "source": [
    "arr = [0, 5, 4, 0, 4, 4, 3, 0, 0, 5, 2, 1, 1, 9]\n",
    "counter = []\n",
    "for i in range(0,10):\n",
    "    counter.append(arr.count(i))\n",
    "print(counter)"
   ]
  },
  {
   "cell_type": "markdown",
   "metadata": {},
   "source": [
    "## Question 6"
   ]
  },
  {
   "cell_type": "code",
   "execution_count": 19,
   "metadata": {},
   "outputs": [
    {
     "name": "stdout",
     "output_type": "stream",
     "text": [
      "[ 6  7  8  9 10 11]\n"
     ]
    }
   ],
   "source": [
    "arr = np.array([[0, 1, 2], [ 3, 4, 5], [ 6, 7, 8],[ 9, 10, 11]])\n",
    "arr = arr[arr>5]\n",
    "print(arr)"
   ]
  },
  {
   "cell_type": "markdown",
   "metadata": {},
   "source": [
    "## Question 7"
   ]
  },
  {
   "cell_type": "code",
   "execution_count": 39,
   "metadata": {},
   "outputs": [
    {
     "name": "stdout",
     "output_type": "stream",
     "text": [
      "[1. 2. 3. 4. 5.]\n"
     ]
    }
   ],
   "source": [
    "arr = np.array([ np.nan, 1., 2., np.nan, 3., 4., 5.])\n",
    "print(arr[~np.isnan(arr)])"
   ]
  },
  {
   "cell_type": "markdown",
   "metadata": {},
   "source": [
    "## Question 8"
   ]
  },
  {
   "cell_type": "code",
   "execution_count": 46,
   "metadata": {},
   "outputs": [
    {
     "name": "stdout",
     "output_type": "stream",
     "text": [
      "0.006346020524932716\n",
      "0.9904907778593572\n"
     ]
    }
   ],
   "source": [
    "arr = np.random.rand(10,10)\n",
    "print(arr.min())\n",
    "print(arr.max())"
   ]
  },
  {
   "cell_type": "markdown",
   "metadata": {},
   "source": [
    "## Question 9"
   ]
  },
  {
   "cell_type": "code",
   "execution_count": 50,
   "metadata": {},
   "outputs": [
    {
     "data": {
      "text/plain": [
       "0.4687955863982528"
      ]
     },
     "execution_count": 50,
     "metadata": {},
     "output_type": "execute_result"
    }
   ],
   "source": [
    "vector = np.random.rand(20)\n",
    "vector.mean()"
   ]
  },
  {
   "cell_type": "markdown",
   "metadata": {},
   "source": [
    "## Question 10"
   ]
  },
  {
   "cell_type": "code",
   "execution_count": 62,
   "metadata": {},
   "outputs": [
    {
     "data": {
      "text/plain": [
       "array([ 0,  1, -3, -4, -5, -6, -7, -8, -9])"
      ]
     },
     "execution_count": 62,
     "metadata": {},
     "output_type": "execute_result"
    }
   ],
   "source": [
    "arr = np.arange(0,10)\n",
    "arr = np.concatenate((arr[0:2],-1*arr[3:10]),axis=0)\n",
    "arr"
   ]
  },
  {
   "cell_type": "markdown",
   "metadata": {},
   "source": [
    "## Doubt: Question 11  How to sort ONLY one column, here all are sorted."
   ]
  },
  {
   "cell_type": "code",
   "execution_count": 70,
   "metadata": {
    "scrolled": true
   },
   "outputs": [
    {
     "name": "stdout",
     "output_type": "stream",
     "text": [
      "before sort\n",
      " [[0.61058141 0.54307012 0.06050171]\n",
      " [0.65318947 0.81741693 0.30162241]\n",
      " [0.8728179  0.08475891 0.91256517]]\n",
      "after sort\n",
      " [[0.61058141 0.08475891 0.06050171]\n",
      " [0.65318947 0.54307012 0.30162241]\n",
      " [0.8728179  0.81741693 0.91256517]]\n"
     ]
    }
   ],
   "source": [
    "arr = np.random.rand(3,3)\n",
    "print(\"before sort\\n\",arr)\n",
    "arr.sort(axis=0)\n",
    "print(\"after sort\\n\",arr)\n"
   ]
  },
  {
   "cell_type": "markdown",
   "metadata": {},
   "source": [
    "## Question 12"
   ]
  },
  {
   "cell_type": "code",
   "execution_count": 78,
   "metadata": {},
   "outputs": [
    {
     "data": {
      "text/plain": [
       "array([[2.06872265, 0.63983054],\n",
       "       [0.92967843, 2.54960821]])"
      ]
     },
     "execution_count": 78,
     "metadata": {},
     "output_type": "execute_result"
    }
   ],
   "source": [
    "arr = np.random.rand(2,2,2,2)\n",
    "arr.sum(axis=(2,3))"
   ]
  },
  {
   "cell_type": "markdown",
   "metadata": {},
   "source": [
    "## Question 13"
   ]
  },
  {
   "cell_type": "code",
   "execution_count": 84,
   "metadata": {},
   "outputs": [
    {
     "name": "stdout",
     "output_type": "stream",
     "text": [
      "before swap\n",
      " [[0.11576429 0.85868778]\n",
      " [0.65682344 0.78948754]]\n",
      "after swap\n",
      " [[0.65682344 0.78948754]\n",
      " [0.11576429 0.85868778]]\n"
     ]
    }
   ],
   "source": [
    "arr = np.random.rand(2,2)\n",
    "print(\"before swap\\n\",arr)\n",
    "temp = arr[0].copy()\n",
    "arr[0] = arr[1]\n",
    "arr[1] = temp\n",
    "print(\"after swap\\n\",arr)"
   ]
  },
  {
   "cell_type": "markdown",
   "metadata": {},
   "source": [
    "## Doubt: Question 14 How to get the rank for every value?"
   ]
  },
  {
   "cell_type": "code",
   "execution_count": 2,
   "metadata": {},
   "outputs": [
    {
     "name": "stdout",
     "output_type": "stream",
     "text": [
      "[0.34232012 0.9836929  0.8132453 ]\n",
      "1\n"
     ]
    }
   ],
   "source": [
    "arr = np.random.rand(3)\n",
    "print(arr)\n",
    "arr = np.linalg.matrix_rank(arr)\n",
    "print(arr)"
   ]
  },
  {
   "cell_type": "markdown",
   "metadata": {},
   "source": [
    "## Question 15"
   ]
  },
  {
   "cell_type": "markdown",
   "metadata": {},
   "source": [
    "## Phase 1:"
   ]
  },
  {
   "cell_type": "code",
   "execution_count": 6,
   "metadata": {},
   "outputs": [
    {
     "name": "stdout",
     "output_type": "stream",
     "text": [
      "                                            name  school_rating    size  \\\n",
      "0                    Allendale Elementary School            5.0   851.0   \n",
      "1                            Anderson Elementary            2.0   412.0   \n",
      "2                               Avoca Elementary            4.0   482.0   \n",
      "3                                  Bailey Middle            0.0   394.0   \n",
      "4                            Barfield Elementary            4.0   948.0   \n",
      "5                 Barkers Mill Elementary School            4.0   893.0   \n",
      "6                           Barksdale Elementary            4.0   580.0   \n",
      "7                               Beech Elementary            5.0   612.0   \n",
      "8                       Beech Senior High School            4.0  1274.0   \n",
      "9                                Bellevue Middle            3.0   680.0   \n",
      "10                          Bellshire Elementary            0.0   539.0   \n",
      "11              Benny C. Bills Elementary School            3.0   705.0   \n",
      "12                          Black Fox Elementary            3.0   830.0   \n",
      "13                    Blackman Elementary School            5.0   880.0   \n",
      "14                          Blackman High School            4.0  2021.0   \n",
      "15                        Blackman Middle School            4.0  1212.0   \n",
      "16                         Bluff City Elementary            2.0   489.0   \n",
      "17                      Bluff City Middle School            3.0   361.0   \n",
      "18                    Boones Creek Middle School            4.0   310.0   \n",
      "19   Bradley Academy - An Arts Integrated School            1.0   453.0   \n",
      "20                         Brentwood High School            5.0  1689.0   \n",
      "21                       Brentwood Middle School            5.0  1261.0   \n",
      "22              Brown's Chapel Elementary School            4.0   694.0   \n",
      "23                           Buchanan Elementary            4.0   460.0   \n",
      "24                        Buena Vista Elementary            0.0   365.0   \n",
      "25                        Byars Dowdy Elementary            3.0   616.0   \n",
      "26                     Byrns L Darden Elementary            2.0   631.0   \n",
      "27                           Caldwell Elementary            0.0   279.0   \n",
      "28                   Cameron College Preparatory            0.0   587.0   \n",
      "29                             Carmel Elementary            5.0   583.0   \n",
      "..                                           ...            ...     ...   \n",
      "317                      Walton Ferry Elementary            4.0   461.0   \n",
      "318                            Warner Elementary            0.0   351.0   \n",
      "319                        Washington Elementary            4.0   449.0   \n",
      "320                           Watauga Elementary            4.0   392.0   \n",
      "321                         Watertown Elementary            2.0   611.0   \n",
      "322                        Watertown High School            3.0   408.0   \n",
      "323                     Watt Hardison Elementary            2.0   489.0   \n",
      "324                            Weaver Elementary            2.0   283.0   \n",
      "325                 West Creek Elementary School            4.0   638.0   \n",
      "326                       West Creek High School            3.0  1315.0   \n",
      "327                     West Creek Middle School            4.0  1049.0   \n",
      "328                              West Elementary            4.0   645.0   \n",
      "329                              West End Middle            3.0   494.0   \n",
      "330                    West Wilson Middle School            4.0  1153.0   \n",
      "331                         Westmeade Elementary            2.0   537.0   \n",
      "332                   Westwood Elementary School            4.0   550.0   \n",
      "333       White House Heritage Elementary School            4.0   646.0   \n",
      "334             White House Heritage High School            3.0   979.0   \n",
      "335                      White House High School            3.0   891.0   \n",
      "336                    White House Middle School            4.0   799.0   \n",
      "337                     Whitthorne Middle School            1.0   948.0   \n",
      "338             Whitworth-Buchanan Middle School            3.0   851.0   \n",
      "339                  William Henry Oliver Middle            2.0   739.0   \n",
      "340                   Wilson Central High School            3.0  1823.0   \n",
      "341                     Wilson Elementary School            4.0   800.0   \n",
      "342                 Winfree Bryant Middle School            3.0   611.0   \n",
      "343                   Winstead Elementary School            5.0   515.0   \n",
      "344                          Woodland Elementary            4.0   424.0   \n",
      "345                       Woodland Middle School            5.0   866.0   \n",
      "346                                Wright Middle            0.0   829.0   \n",
      "\n",
      "     reduced_lunch  state_percentile_16  state_percentile_15  stu_teach_ratio  \\\n",
      "0             10.0                 90.2                 95.8             15.7   \n",
      "1             71.0                 32.8                 37.3             12.8   \n",
      "2             43.0                 78.4                 83.6             16.6   \n",
      "3             91.0                  1.6                  1.0             13.1   \n",
      "4             26.0                 85.3                 89.2             14.8   \n",
      "5             48.0                 78.1                 76.4             13.9   \n",
      "6             58.0                 83.2                 74.6             13.8   \n",
      "7             16.0                 95.2                 93.4             15.6   \n",
      "8             21.0                 82.5                 77.9             14.9   \n",
      "9             50.0                 53.0                 55.5             16.5   \n",
      "10            75.0                  3.5                  2.9             14.5   \n",
      "11            67.0                 64.6                 63.8             13.0   \n",
      "12            72.0                 52.1                 62.8             13.8   \n",
      "13            25.0                 92.4                 90.3             14.4   \n",
      "14            25.0                 84.8                 66.2             17.4   \n",
      "15            30.0                 87.2                 87.1             16.8   \n",
      "16            66.0                 36.0                 54.1             14.3   \n",
      "17            63.0                 59.3                 59.2             15.0   \n",
      "18            61.0                 81.4                 92.4             14.7   \n",
      "19            84.0                 11.3                 13.9             11.6   \n",
      "20             4.0                 96.3                 97.3             18.7   \n",
      "21             3.0                 98.0                 98.2             18.5   \n",
      "22            37.0                 88.2                 82.5             14.7   \n",
      "23            44.0                 82.2                 83.9             13.1   \n",
      "24            81.0                  1.3                  0.8             13.5   \n",
      "25            70.0                 51.9                 55.5             13.6   \n",
      "26            74.0                 45.3                 18.7             11.6   \n",
      "27            83.0                  7.5                  3.9             10.7   \n",
      "28            90.0                  7.7                 16.0             13.9   \n",
      "29            21.0                 93.7                  NaN             14.9   \n",
      "..             ...                  ...                  ...              ...   \n",
      "317           33.0                 86.9                 81.3             14.4   \n",
      "318           91.0                  1.1                  3.3             11.7   \n",
      "319           48.0                 81.0                 88.4             15.4   \n",
      "320           44.0                 72.1                 35.0             15.0   \n",
      "321           50.0                 46.8                 52.6             13.8   \n",
      "322           41.0                 51.1                 27.8             13.1   \n",
      "323           54.0                 30.0                 34.4             13.9   \n",
      "324           65.0                 34.9                 44.3             14.8   \n",
      "325           46.0                 79.6                 64.8             13.8   \n",
      "326           41.0                 62.4                 59.5             18.0   \n",
      "327           46.0                 77.5                 59.0             17.4   \n",
      "328           24.0                 82.1                 79.5             16.1   \n",
      "329           51.0                 51.4                 70.7             15.4   \n",
      "330           30.0                 80.2                 78.9             19.8   \n",
      "331           61.0                 32.0                 29.2             16.2   \n",
      "332           40.0                 77.3                 87.4             14.1   \n",
      "333           34.0                 80.0                 80.6             17.4   \n",
      "334           25.0                 50.6                 67.2             18.1   \n",
      "335           29.0                 67.8                 64.2             15.9   \n",
      "336           33.0                 84.0                 76.4             15.0   \n",
      "337           65.0                 26.3                 26.8             17.2   \n",
      "338           60.0                 50.4                 53.7             14.6   \n",
      "339           57.0                 45.5                 49.6             16.7   \n",
      "340           24.0                 55.7                 63.2             17.8   \n",
      "341           25.0                 84.6                 89.0             14.5   \n",
      "342           57.0                 59.1                 65.2             16.9   \n",
      "343            8.0                 93.9                 97.0             14.3   \n",
      "344           55.0                 84.8                 76.7             14.1   \n",
      "345            2.0                 93.3                 97.1             19.2   \n",
      "346           89.0                  4.5                  1.2             16.5   \n",
      "\n",
      "        school_type  avg_score_15  avg_score_16  full_time_teachers  \\\n",
      "0            Public          89.4          85.2                54.0   \n",
      "1            Public          43.0          38.3                32.0   \n",
      "2            Public          75.7          73.0                29.0   \n",
      "3     Public Magnet           2.1           4.4                30.0   \n",
      "4            Public          81.3          79.6                64.0   \n",
      "5            Public          69.4          72.3                64.0   \n",
      "6            Public          68.0          76.1                42.0   \n",
      "7            Public          85.9          90.3                39.0   \n",
      "8            Public          67.2          69.3                85.0   \n",
      "9     Public Magnet          55.8          53.3                41.0   \n",
      "10    Public Magnet           6.3           8.3                37.0   \n",
      "11           Public          59.9          60.6                54.0   \n",
      "12           Public          58.8          50.5                60.0   \n",
      "13           Public          82.5          87.0                61.0   \n",
      "14           Public          62.1          72.5               116.0   \n",
      "15           Public          77.2          78.3                72.0   \n",
      "16           Public          53.2          41.0                34.0   \n",
      "17           Public          58.1          57.4                24.0   \n",
      "18           Public          82.2          72.8                21.0   \n",
      "19           Public          22.2          17.3                39.0   \n",
      "20           Public          89.8          87.6                90.0   \n",
      "21           Public          91.1          91.7                68.0   \n",
      "22           Public          74.7          82.8                47.0   \n",
      "23           Public          76.0          75.1                35.0   \n",
      "24    Public Magnet           1.7           4.5                27.0   \n",
      "25           Public          54.5          50.5                45.0   \n",
      "26           Public          26.8          46.3                54.0   \n",
      "27    Public Magnet           7.9          12.6                26.0   \n",
      "28   Public Charter          25.8          13.2                42.0   \n",
      "29           Public           NaN          89.0                39.0   \n",
      "..              ...           ...           ...                 ...   \n",
      "317          Public          73.6          81.8                32.0   \n",
      "318   Public Magnet           7.2           2.8                30.0   \n",
      "319          Public          80.6          74.2                29.0   \n",
      "320          Public          41.8          67.1                26.0   \n",
      "321          Public          52.7          48.0                44.0   \n",
      "322          Public          38.6          48.7                31.0   \n",
      "323          Public          41.0          36.0                35.0   \n",
      "324          Public          47.6          39.7                19.0   \n",
      "325          Public          60.8          73.1                46.0   \n",
      "326          Public          58.9          57.0                73.0   \n",
      "327          Public          57.9          71.2                60.0   \n",
      "328          Public          71.5          75.0                40.0   \n",
      "329   Public Magnet          64.9          53.1                32.0   \n",
      "330          Public          70.7          72.8                58.0   \n",
      "331          Public          37.6          37.6                33.0   \n",
      "332          Public          79.6          72.3                39.0   \n",
      "333          Public          73.1          73.6                37.0   \n",
      "334          Public          62.5          48.1                54.0   \n",
      "335          Public          61.1          59.7                56.0   \n",
      "336          Public          69.1          74.7                53.0   \n",
      "337          Public          37.0          35.0                55.0   \n",
      "338          Public          53.8          51.4                58.0   \n",
      "339          Public          51.8          47.9                44.0   \n",
      "340          Public          60.8          51.9               102.0   \n",
      "341          Public          81.3          79.3                55.0   \n",
      "342          Public          61.4          57.7                36.0   \n",
      "343          Public          92.0          89.3                36.0   \n",
      "344          Public          69.4          79.4                30.0   \n",
      "345          Public          89.8          84.9                45.0   \n",
      "346          Public           2.7           9.6                50.0   \n",
      "\n",
      "     percent_black  percent_white  percent_asian  percent_hispanic  \n",
      "0              2.9           85.5            1.6               5.6  \n",
      "1              3.9           86.7            1.0               4.9  \n",
      "2              1.0           91.5            1.2               4.4  \n",
      "3             80.7           11.7            2.3               4.3  \n",
      "4             11.8           71.2            7.1               6.0  \n",
      "5             28.6           39.9            2.2              17.8  \n",
      "6             27.4           59.5            0.5               6.6  \n",
      "7              4.2           90.5            0.3               3.1  \n",
      "8             13.8           79.7            1.4               3.7  \n",
      "9             24.3           61.8            5.6               6.6  \n",
      "10            83.7            8.7            0.4               5.4  \n",
      "11            26.0           58.0            0.3              12.9  \n",
      "12            29.4           36.5            7.3              19.2  \n",
      "13            17.0           67.3            6.9               5.7  \n",
      "14            19.6           67.7            5.2               5.8  \n",
      "15            14.6           73.2            4.8               5.7  \n",
      "16             0.0           96.3            0.0               1.4  \n",
      "17             1.1           97.5            0.0               0.0  \n",
      "18             0.6           94.8            0.6               2.9  \n",
      "19            37.3           23.8            1.1              29.6  \n",
      "20             3.1           83.8            6.9               3.6  \n",
      "21             3.2           83.3            6.7               2.8  \n",
      "22             9.9           79.0            2.4               5.5  \n",
      "23             2.8           84.6            5.7               4.8  \n",
      "24            93.4            1.1            0.3               1.4  \n",
      "25            12.8           57.3            3.1              24.5  \n",
      "26            32.8           40.3            0.3              18.4  \n",
      "27            92.5            3.6            0.0               2.5  \n",
      "28            23.2           25.2            1.9              49.6  \n",
      "29             3.4           79.6            1.9               8.9  \n",
      "..             ...            ...            ...               ...  \n",
      "317           10.0           83.1            0.9               4.6  \n",
      "318           89.7            5.1            0.6               2.0  \n",
      "319            5.8           86.9            4.7               1.3  \n",
      "320            0.8           90.8            0.3               4.3  \n",
      "321            0.7           92.6            0.3               2.6  \n",
      "322            1.7           91.9            0.5               1.0  \n",
      "323            2.9           78.9            0.6              14.3  \n",
      "324            1.4           95.4            0.0               2.1  \n",
      "325           28.8           43.4            1.7              15.4  \n",
      "326           36.2           37.8            1.8              15.8  \n",
      "327           34.3           35.7            1.7              17.9  \n",
      "328            0.8           87.0            1.4               5.1  \n",
      "329           39.1           50.6            3.6               5.5  \n",
      "330            0.7           83.1            3.4               4.2  \n",
      "331           21.6           55.3            6.3              11.4  \n",
      "332            2.7           89.1            0.9               4.0  \n",
      "333            2.6           90.2            1.9               3.3  \n",
      "334            2.7           91.4            1.3               3.1  \n",
      "335            2.2           92.0            0.7               4.3  \n",
      "336            2.5           91.4            1.6               4.0  \n",
      "337           22.4           61.7            1.7              14.1  \n",
      "338           23.4           54.6            5.6              12.7  \n",
      "339           26.9           51.3           11.0              10.1  \n",
      "340            2.5           84.9            1.8               4.2  \n",
      "341            5.5           86.4            2.6               4.0  \n",
      "342           15.2           66.3            1.5              15.7  \n",
      "343            3.3           87.4            3.1               4.1  \n",
      "344           11.6           70.5            2.1               9.7  \n",
      "345            4.5           77.6           10.0               4.4  \n",
      "346           22.3           21.0            6.6              49.5  \n",
      "\n",
      "[347 rows x 15 columns]\n"
     ]
    }
   ],
   "source": [
    "data = pd.read_csv('D:\\\\Users\\\\yashk\\\\Edureka_PythonForDataScience\\\\Module4\\\\middle_tn_schools.csv')\n",
    "print(data)"
   ]
  },
  {
   "cell_type": "markdown",
   "metadata": {},
   "source": [
    "## Doubt:  Phase 2: Cannot understand how to use describe properly"
   ]
  },
  {
   "cell_type": "code",
   "execution_count": 31,
   "metadata": {},
   "outputs": [
    {
     "data": {
      "text/plain": [
       "['__bytes__',\n",
       " '__class__',\n",
       " '__delattr__',\n",
       " '__dict__',\n",
       " '__dir__',\n",
       " '__doc__',\n",
       " '__eq__',\n",
       " '__format__',\n",
       " '__ge__',\n",
       " '__getattr__',\n",
       " '__getattribute__',\n",
       " '__getitem__',\n",
       " '__gt__',\n",
       " '__hash__',\n",
       " '__init__',\n",
       " '__init_subclass__',\n",
       " '__iter__',\n",
       " '__le__',\n",
       " '__len__',\n",
       " '__lt__',\n",
       " '__module__',\n",
       " '__ne__',\n",
       " '__new__',\n",
       " '__reduce__',\n",
       " '__reduce_ex__',\n",
       " '__repr__',\n",
       " '__setattr__',\n",
       " '__sizeof__',\n",
       " '__str__',\n",
       " '__subclasshook__',\n",
       " '__unicode__',\n",
       " '__weakref__',\n",
       " '_accessors',\n",
       " '_add_numeric_operations',\n",
       " '_agg_doc',\n",
       " '_aggregate',\n",
       " '_aggregate_generic',\n",
       " '_aggregate_item_by_item',\n",
       " '_aggregate_multiple_funcs',\n",
       " '_apply_filter',\n",
       " '_apply_to_column_groupbys',\n",
       " '_apply_whitelist',\n",
       " '_assure_grouper',\n",
       " '_block_agg_axis',\n",
       " '_bool_agg',\n",
       " '_builtin_table',\n",
       " '_choose_path',\n",
       " '_concat_objects',\n",
       " '_constructor',\n",
       " '_cumcount_array',\n",
       " '_cython_agg_blocks',\n",
       " '_cython_agg_general',\n",
       " '_cython_table',\n",
       " '_cython_transform',\n",
       " '_decide_output_index',\n",
       " '_def_str',\n",
       " '_define_paths',\n",
       " '_deprecations',\n",
       " '_dir_additions',\n",
       " '_dir_deletions',\n",
       " '_fill',\n",
       " '_get_cythonized_result',\n",
       " '_get_data_to_aggregate',\n",
       " '_get_index',\n",
       " '_get_indices',\n",
       " '_gotitem',\n",
       " '_group_selection',\n",
       " '_insert_inaxis_grouper_inplace',\n",
       " '_internal_names',\n",
       " '_internal_names_set',\n",
       " '_is_builtin_func',\n",
       " '_is_cython_func',\n",
       " '_iterate_column_groupbys',\n",
       " '_iterate_slices',\n",
       " '_make_wrapper',\n",
       " '_obj_with_exclusions',\n",
       " '_post_process_cython_aggregate',\n",
       " '_python_agg_general',\n",
       " '_python_apply_general',\n",
       " '_reindex_output',\n",
       " '_reset_cache',\n",
       " '_reset_group_selection',\n",
       " '_selected_obj',\n",
       " '_selection',\n",
       " '_selection_list',\n",
       " '_selection_name',\n",
       " '_set_group_selection',\n",
       " '_set_result_index_ordered',\n",
       " '_shallow_copy',\n",
       " '_transform_fast',\n",
       " '_transform_general',\n",
       " '_transform_item_by_item',\n",
       " '_transform_should_cast',\n",
       " '_try_aggregate_string_function',\n",
       " '_try_cast',\n",
       " '_wrap_agged_blocks',\n",
       " '_wrap_aggregated_output',\n",
       " '_wrap_applied_output',\n",
       " '_wrap_generic_output',\n",
       " '_wrap_transformed_output',\n",
       " 'agg',\n",
       " 'aggregate',\n",
       " 'all',\n",
       " 'any',\n",
       " 'apply',\n",
       " 'avg_score_15',\n",
       " 'avg_score_16',\n",
       " 'backfill',\n",
       " 'bfill',\n",
       " 'boxplot',\n",
       " 'corr',\n",
       " 'corrwith',\n",
       " 'count',\n",
       " 'cov',\n",
       " 'cumcount',\n",
       " 'cummax',\n",
       " 'cummin',\n",
       " 'cumprod',\n",
       " 'cumsum',\n",
       " 'describe',\n",
       " 'diff',\n",
       " 'dtypes',\n",
       " 'expanding',\n",
       " 'ffill',\n",
       " 'fillna',\n",
       " 'filter',\n",
       " 'first',\n",
       " 'full_time_teachers',\n",
       " 'get_group',\n",
       " 'groups',\n",
       " 'head',\n",
       " 'hist',\n",
       " 'idxmax',\n",
       " 'idxmin',\n",
       " 'indices',\n",
       " 'last',\n",
       " 'mad',\n",
       " 'max',\n",
       " 'mean',\n",
       " 'median',\n",
       " 'min',\n",
       " 'name',\n",
       " 'ndim',\n",
       " 'ngroup',\n",
       " 'ngroups',\n",
       " 'nth',\n",
       " 'nunique',\n",
       " 'ohlc',\n",
       " 'pad',\n",
       " 'pct_change',\n",
       " 'percent_asian',\n",
       " 'percent_black',\n",
       " 'percent_hispanic',\n",
       " 'percent_white',\n",
       " 'pipe',\n",
       " 'plot',\n",
       " 'prod',\n",
       " 'quantile',\n",
       " 'rank',\n",
       " 'reduced_lunch',\n",
       " 'resample',\n",
       " 'rolling',\n",
       " 'school_rating',\n",
       " 'school_type',\n",
       " 'sem',\n",
       " 'shift',\n",
       " 'size',\n",
       " 'skew',\n",
       " 'state_percentile_15',\n",
       " 'state_percentile_16',\n",
       " 'std',\n",
       " 'stu_teach_ratio',\n",
       " 'sum',\n",
       " 'tail',\n",
       " 'take',\n",
       " 'transform',\n",
       " 'tshift',\n",
       " 'var']"
      ]
     },
     "execution_count": 31,
     "metadata": {},
     "output_type": "execute_result"
    }
   ],
   "source": [
    "dir(data.groupby(\"school_rating\"))\n",
    "# data.groupby(\"school_rating\").describe()\n",
    "# print(data.describe(include = []))"
   ]
  },
  {
   "cell_type": "markdown",
   "metadata": {},
   "source": [
    "## Phase 3"
   ]
  },
  {
   "cell_type": "code",
   "execution_count": 29,
   "metadata": {},
   "outputs": [
    {
     "data": {
      "text/html": [
       "<div>\n",
       "<style scoped>\n",
       "    .dataframe tbody tr th:only-of-type {\n",
       "        vertical-align: middle;\n",
       "    }\n",
       "\n",
       "    .dataframe tbody tr th {\n",
       "        vertical-align: top;\n",
       "    }\n",
       "\n",
       "    .dataframe thead th {\n",
       "        text-align: right;\n",
       "    }\n",
       "</style>\n",
       "<table border=\"1\" class=\"dataframe\">\n",
       "  <thead>\n",
       "    <tr style=\"text-align: right;\">\n",
       "      <th></th>\n",
       "      <th>school_rating</th>\n",
       "      <th>size</th>\n",
       "      <th>reduced_lunch</th>\n",
       "      <th>state_percentile_16</th>\n",
       "      <th>state_percentile_15</th>\n",
       "      <th>stu_teach_ratio</th>\n",
       "      <th>avg_score_15</th>\n",
       "      <th>avg_score_16</th>\n",
       "      <th>full_time_teachers</th>\n",
       "      <th>percent_black</th>\n",
       "      <th>percent_white</th>\n",
       "      <th>percent_asian</th>\n",
       "      <th>percent_hispanic</th>\n",
       "    </tr>\n",
       "  </thead>\n",
       "  <tbody>\n",
       "    <tr>\n",
       "      <th>school_rating</th>\n",
       "      <td>1.000000</td>\n",
       "      <td>0.181428</td>\n",
       "      <td>-0.815757</td>\n",
       "      <td>0.985545</td>\n",
       "      <td>0.937817</td>\n",
       "      <td>0.203459</td>\n",
       "      <td>0.941336</td>\n",
       "      <td>0.982390</td>\n",
       "      <td>0.122910</td>\n",
       "      <td>-0.593869</td>\n",
       "      <td>0.639014</td>\n",
       "      <td>0.161469</td>\n",
       "      <td>-0.376288</td>\n",
       "    </tr>\n",
       "    <tr>\n",
       "      <th>size</th>\n",
       "      <td>0.181428</td>\n",
       "      <td>1.000000</td>\n",
       "      <td>-0.277807</td>\n",
       "      <td>0.171060</td>\n",
       "      <td>0.162887</td>\n",
       "      <td>0.143173</td>\n",
       "      <td>0.161788</td>\n",
       "      <td>0.143289</td>\n",
       "      <td>0.966880</td>\n",
       "      <td>-0.148405</td>\n",
       "      <td>0.102904</td>\n",
       "      <td>0.193491</td>\n",
       "      <td>-0.017660</td>\n",
       "    </tr>\n",
       "    <tr>\n",
       "      <th>reduced_lunch</th>\n",
       "      <td>-0.815757</td>\n",
       "      <td>-0.277807</td>\n",
       "      <td>1.000000</td>\n",
       "      <td>-0.815720</td>\n",
       "      <td>-0.825085</td>\n",
       "      <td>-0.197428</td>\n",
       "      <td>-0.839536</td>\n",
       "      <td>-0.816479</td>\n",
       "      <td>-0.214848</td>\n",
       "      <td>0.562921</td>\n",
       "      <td>-0.668327</td>\n",
       "      <td>-0.226385</td>\n",
       "      <td>0.490446</td>\n",
       "    </tr>\n",
       "    <tr>\n",
       "      <th>state_percentile_16</th>\n",
       "      <td>0.985545</td>\n",
       "      <td>0.171060</td>\n",
       "      <td>-0.815720</td>\n",
       "      <td>1.000000</td>\n",
       "      <td>0.949694</td>\n",
       "      <td>0.186893</td>\n",
       "      <td>0.949197</td>\n",
       "      <td>0.994085</td>\n",
       "      <td>0.117061</td>\n",
       "      <td>-0.573810</td>\n",
       "      <td>0.625374</td>\n",
       "      <td>0.151021</td>\n",
       "      <td>-0.383017</td>\n",
       "    </tr>\n",
       "    <tr>\n",
       "      <th>state_percentile_15</th>\n",
       "      <td>0.937817</td>\n",
       "      <td>0.162887</td>\n",
       "      <td>-0.825085</td>\n",
       "      <td>0.949694</td>\n",
       "      <td>1.000000</td>\n",
       "      <td>0.141066</td>\n",
       "      <td>0.991847</td>\n",
       "      <td>0.946101</td>\n",
       "      <td>0.109569</td>\n",
       "      <td>-0.564929</td>\n",
       "      <td>0.612183</td>\n",
       "      <td>0.181822</td>\n",
       "      <td>-0.371708</td>\n",
       "    </tr>\n",
       "    <tr>\n",
       "      <th>stu_teach_ratio</th>\n",
       "      <td>0.203459</td>\n",
       "      <td>0.143173</td>\n",
       "      <td>-0.197428</td>\n",
       "      <td>0.186893</td>\n",
       "      <td>0.141066</td>\n",
       "      <td>1.000000</td>\n",
       "      <td>0.147963</td>\n",
       "      <td>0.175880</td>\n",
       "      <td>0.019594</td>\n",
       "      <td>-0.122307</td>\n",
       "      <td>0.134595</td>\n",
       "      <td>0.089211</td>\n",
       "      <td>-0.089307</td>\n",
       "    </tr>\n",
       "    <tr>\n",
       "      <th>avg_score_15</th>\n",
       "      <td>0.941336</td>\n",
       "      <td>0.161788</td>\n",
       "      <td>-0.839536</td>\n",
       "      <td>0.949197</td>\n",
       "      <td>0.991847</td>\n",
       "      <td>0.147963</td>\n",
       "      <td>1.000000</td>\n",
       "      <td>0.953714</td>\n",
       "      <td>0.105186</td>\n",
       "      <td>-0.595062</td>\n",
       "      <td>0.637500</td>\n",
       "      <td>0.192656</td>\n",
       "      <td>-0.374300</td>\n",
       "    </tr>\n",
       "    <tr>\n",
       "      <th>avg_score_16</th>\n",
       "      <td>0.982390</td>\n",
       "      <td>0.143289</td>\n",
       "      <td>-0.816479</td>\n",
       "      <td>0.994085</td>\n",
       "      <td>0.946101</td>\n",
       "      <td>0.175880</td>\n",
       "      <td>0.953714</td>\n",
       "      <td>1.000000</td>\n",
       "      <td>0.089338</td>\n",
       "      <td>-0.592876</td>\n",
       "      <td>0.635201</td>\n",
       "      <td>0.172739</td>\n",
       "      <td>-0.373618</td>\n",
       "    </tr>\n",
       "    <tr>\n",
       "      <th>full_time_teachers</th>\n",
       "      <td>0.122910</td>\n",
       "      <td>0.966880</td>\n",
       "      <td>-0.214848</td>\n",
       "      <td>0.117061</td>\n",
       "      <td>0.109569</td>\n",
       "      <td>0.019594</td>\n",
       "      <td>0.105186</td>\n",
       "      <td>0.089338</td>\n",
       "      <td>1.000000</td>\n",
       "      <td>-0.113515</td>\n",
       "      <td>0.055672</td>\n",
       "      <td>0.146726</td>\n",
       "      <td>0.026130</td>\n",
       "    </tr>\n",
       "    <tr>\n",
       "      <th>percent_black</th>\n",
       "      <td>-0.593869</td>\n",
       "      <td>-0.148405</td>\n",
       "      <td>0.562921</td>\n",
       "      <td>-0.573810</td>\n",
       "      <td>-0.564929</td>\n",
       "      <td>-0.122307</td>\n",
       "      <td>-0.595062</td>\n",
       "      <td>-0.592876</td>\n",
       "      <td>-0.113515</td>\n",
       "      <td>1.000000</td>\n",
       "      <td>-0.874202</td>\n",
       "      <td>-0.112274</td>\n",
       "      <td>0.086627</td>\n",
       "    </tr>\n",
       "    <tr>\n",
       "      <th>percent_white</th>\n",
       "      <td>0.639014</td>\n",
       "      <td>0.102904</td>\n",
       "      <td>-0.668327</td>\n",
       "      <td>0.625374</td>\n",
       "      <td>0.612183</td>\n",
       "      <td>0.134595</td>\n",
       "      <td>0.637500</td>\n",
       "      <td>0.635201</td>\n",
       "      <td>0.055672</td>\n",
       "      <td>-0.874202</td>\n",
       "      <td>1.000000</td>\n",
       "      <td>-0.092287</td>\n",
       "      <td>-0.537571</td>\n",
       "    </tr>\n",
       "    <tr>\n",
       "      <th>percent_asian</th>\n",
       "      <td>0.161469</td>\n",
       "      <td>0.193491</td>\n",
       "      <td>-0.226385</td>\n",
       "      <td>0.151021</td>\n",
       "      <td>0.181822</td>\n",
       "      <td>0.089211</td>\n",
       "      <td>0.192656</td>\n",
       "      <td>0.172739</td>\n",
       "      <td>0.146726</td>\n",
       "      <td>-0.112274</td>\n",
       "      <td>-0.092287</td>\n",
       "      <td>1.000000</td>\n",
       "      <td>0.187277</td>\n",
       "    </tr>\n",
       "    <tr>\n",
       "      <th>percent_hispanic</th>\n",
       "      <td>-0.376288</td>\n",
       "      <td>-0.017660</td>\n",
       "      <td>0.490446</td>\n",
       "      <td>-0.383017</td>\n",
       "      <td>-0.371708</td>\n",
       "      <td>-0.089307</td>\n",
       "      <td>-0.374300</td>\n",
       "      <td>-0.373618</td>\n",
       "      <td>0.026130</td>\n",
       "      <td>0.086627</td>\n",
       "      <td>-0.537571</td>\n",
       "      <td>0.187277</td>\n",
       "      <td>1.000000</td>\n",
       "    </tr>\n",
       "  </tbody>\n",
       "</table>\n",
       "</div>"
      ],
      "text/plain": [
       "                     school_rating      size  reduced_lunch  \\\n",
       "school_rating             1.000000  0.181428      -0.815757   \n",
       "size                      0.181428  1.000000      -0.277807   \n",
       "reduced_lunch            -0.815757 -0.277807       1.000000   \n",
       "state_percentile_16       0.985545  0.171060      -0.815720   \n",
       "state_percentile_15       0.937817  0.162887      -0.825085   \n",
       "stu_teach_ratio           0.203459  0.143173      -0.197428   \n",
       "avg_score_15              0.941336  0.161788      -0.839536   \n",
       "avg_score_16              0.982390  0.143289      -0.816479   \n",
       "full_time_teachers        0.122910  0.966880      -0.214848   \n",
       "percent_black            -0.593869 -0.148405       0.562921   \n",
       "percent_white             0.639014  0.102904      -0.668327   \n",
       "percent_asian             0.161469  0.193491      -0.226385   \n",
       "percent_hispanic         -0.376288 -0.017660       0.490446   \n",
       "\n",
       "                     state_percentile_16  state_percentile_15  \\\n",
       "school_rating                   0.985545             0.937817   \n",
       "size                            0.171060             0.162887   \n",
       "reduced_lunch                  -0.815720            -0.825085   \n",
       "state_percentile_16             1.000000             0.949694   \n",
       "state_percentile_15             0.949694             1.000000   \n",
       "stu_teach_ratio                 0.186893             0.141066   \n",
       "avg_score_15                    0.949197             0.991847   \n",
       "avg_score_16                    0.994085             0.946101   \n",
       "full_time_teachers              0.117061             0.109569   \n",
       "percent_black                  -0.573810            -0.564929   \n",
       "percent_white                   0.625374             0.612183   \n",
       "percent_asian                   0.151021             0.181822   \n",
       "percent_hispanic               -0.383017            -0.371708   \n",
       "\n",
       "                     stu_teach_ratio  avg_score_15  avg_score_16  \\\n",
       "school_rating               0.203459      0.941336      0.982390   \n",
       "size                        0.143173      0.161788      0.143289   \n",
       "reduced_lunch              -0.197428     -0.839536     -0.816479   \n",
       "state_percentile_16         0.186893      0.949197      0.994085   \n",
       "state_percentile_15         0.141066      0.991847      0.946101   \n",
       "stu_teach_ratio             1.000000      0.147963      0.175880   \n",
       "avg_score_15                0.147963      1.000000      0.953714   \n",
       "avg_score_16                0.175880      0.953714      1.000000   \n",
       "full_time_teachers          0.019594      0.105186      0.089338   \n",
       "percent_black              -0.122307     -0.595062     -0.592876   \n",
       "percent_white               0.134595      0.637500      0.635201   \n",
       "percent_asian               0.089211      0.192656      0.172739   \n",
       "percent_hispanic           -0.089307     -0.374300     -0.373618   \n",
       "\n",
       "                     full_time_teachers  percent_black  percent_white  \\\n",
       "school_rating                  0.122910      -0.593869       0.639014   \n",
       "size                           0.966880      -0.148405       0.102904   \n",
       "reduced_lunch                 -0.214848       0.562921      -0.668327   \n",
       "state_percentile_16            0.117061      -0.573810       0.625374   \n",
       "state_percentile_15            0.109569      -0.564929       0.612183   \n",
       "stu_teach_ratio                0.019594      -0.122307       0.134595   \n",
       "avg_score_15                   0.105186      -0.595062       0.637500   \n",
       "avg_score_16                   0.089338      -0.592876       0.635201   \n",
       "full_time_teachers             1.000000      -0.113515       0.055672   \n",
       "percent_black                 -0.113515       1.000000      -0.874202   \n",
       "percent_white                  0.055672      -0.874202       1.000000   \n",
       "percent_asian                  0.146726      -0.112274      -0.092287   \n",
       "percent_hispanic               0.026130       0.086627      -0.537571   \n",
       "\n",
       "                     percent_asian  percent_hispanic  \n",
       "school_rating             0.161469         -0.376288  \n",
       "size                      0.193491         -0.017660  \n",
       "reduced_lunch            -0.226385          0.490446  \n",
       "state_percentile_16       0.151021         -0.383017  \n",
       "state_percentile_15       0.181822         -0.371708  \n",
       "stu_teach_ratio           0.089211         -0.089307  \n",
       "avg_score_15              0.192656         -0.374300  \n",
       "avg_score_16              0.172739         -0.373618  \n",
       "full_time_teachers        0.146726          0.026130  \n",
       "percent_black            -0.112274          0.086627  \n",
       "percent_white            -0.092287         -0.537571  \n",
       "percent_asian             1.000000          0.187277  \n",
       "percent_hispanic          0.187277          1.000000  "
      ]
     },
     "execution_count": 29,
     "metadata": {},
     "output_type": "execute_result"
    }
   ],
   "source": [
    "data.corr()"
   ]
  },
  {
   "cell_type": "markdown",
   "metadata": {},
   "source": [
    "### High Positive Coorelations:"
   ]
  },
  {
   "cell_type": "markdown",
   "metadata": {},
   "source": [
    "###### (state_percentiles and school_rating) -> the student body who score good scores help increase the school rating or vice versa\n",
    "###### (avg_scores and school_rating) -> same as above\n",
    "#### Doubt: (state_percentile 15 with 16) -> do not understand the columns\n",
    "#### Doubt: (average_score 15 with 16) -> same as above"
   ]
  },
  {
   "cell_type": "markdown",
   "metadata": {},
   "source": [
    "### High Negative Correlations:"
   ]
  },
  {
   "cell_type": "markdown",
   "metadata": {},
   "source": [
    "#### increase in reduced_lunch preduces decrease in school_rating, state_percentiles and av_scores which means, the students coming from poor family reduce the above parameters values as they increase in size."
   ]
  },
  {
   "cell_type": "markdown",
   "metadata": {},
   "source": [
    "## Scatter Plot"
   ]
  },
  {
   "cell_type": "code",
   "execution_count": 33,
   "metadata": {},
   "outputs": [
    {
     "data": {
      "text/plain": [
       "<matplotlib.axes._subplots.AxesSubplot at 0x17e04944240>"
      ]
     },
     "execution_count": 33,
     "metadata": {},
     "output_type": "execute_result"
    },
    {
     "data": {
      "image/png": "[encoded data removed]",
      "text/plain": [
       "<Figure size 432x288 with 1 Axes>"
      ]
     },
     "metadata": {
      "needs_background": "light"
     },
     "output_type": "display_data"
    }
   ],
   "source": [
    "chart = data.plot.scatter(x='reduced_lunch',y='school_rating')\n",
    "chart"
   ]
  },
  {
   "cell_type": "markdown",
   "metadata": {},
   "source": [
    "Interpretation : A high number of schools with 5 rating have low number od students with reduced_lunch i.e in the rangoe of 0 to 40, as the rating of the school decreases, the reduced_lucn candidates of the university increase, or this can be interpreted in other manner saying as the the number of reduced_lunch students increase the school rating decreases."
   ]
  },
  {
   "cell_type": "markdown",
   "metadata": {},
   "source": [
    "## Phase 5:"
   ]
  },
  {
   "cell_type": "code",
   "execution_count": 3,
   "metadata": {},
   "outputs": [],
   "source": [
    "import seaborn as sns\n",
    "import matplotlib.pyplot as plt"
   ]
  },
  {
   "cell_type": "code",
   "execution_count": 7,
   "metadata": {},
   "outputs": [
    {
     "data": {
      "text/plain": [
       "<matplotlib.axes._subplots.AxesSubplot at 0x1b4605cd5c0>"
      ]
     },
     "execution_count": 7,
     "metadata": {},
     "output_type": "execute_result"
    },
    {
     "data": {
      "image/png": "[encoded data removed]",
      "text/plain": [
       "<Figure size 432x288 with 2 Axes>"
      ]
     },
     "metadata": {
      "needs_background": "light"
     },
     "output_type": "display_data"
    }
   ],
   "source": [
    "correlation_matrix = data.corr()\n",
    "# cmap =  sns.diverging_pal\n",
    "sns.heatmap(correlation_matrix)\n",
    "\n"
   ]
  }
 ],
 "metadata": {
  "kernelspec": {
   "display_name": "Python 3",
   "language": "python",
   "name": "python3"
  },
  "language_info": {
   "codemirror_mode": {
    "name": "ipython",
    "version": 3
   },
   "file_extension": ".py",
   "mimetype": "text/x-python",
   "name": "python",
   "nbconvert_exporter": "python",
   "pygments_lexer": "ipython3",
   "version": "3.7.1"
  }
 },
 "nbformat": 4,
 "nbformat_minor": 2
}
