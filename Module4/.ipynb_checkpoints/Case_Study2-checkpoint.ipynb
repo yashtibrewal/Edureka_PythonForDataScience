{
 "cells": [
  {
   "cell_type": "code",
   "execution_count": 1,
   "metadata": {},
   "outputs": [],
   "source": [
    "import pandas as pd"
   ]
  },
  {
   "cell_type": "code",
   "execution_count": 106,
   "metadata": {},
   "outputs": [
    {
     "name": "stdout",
     "output_type": "stream",
     "text": [
      "   Score        Subject  ID\n",
      "0   82.0  Data Structue   1\n",
      "1   79.0  Data Structue   2\n",
      "2   39.0  Data Structue   3\n",
      "3   76.0  Data Structue   4\n",
      "4   76.0  Data Structue   5\n",
      "   Score Subject  ID\n",
      "0   88.0   Maths   1\n",
      "1   85.0   Maths   2\n",
      "2   45.0   Maths   3\n",
      "3   82.0   Maths   4\n",
      "4   82.0   Maths   5\n",
      "   Score  Age         Ethinicity  Subject Sex  ID\n",
      "0   84.0   18     White American  Physics   M   1\n",
      "1   81.0   19  European American  Physics   M   2\n",
      "2   41.0   19  European American  Physics   M   3\n",
      "3   78.0   18     White American  Physics   M   4\n",
      "4   78.0   18     White American  Physics   F   5\n",
      "['White American' 'European American' 'Hispanic' 'African American']\n"
     ]
    }
   ],
   "source": [
    "dss_scores = pd.read_csv(\"DSScoreTerm1.csv\")\n",
    "math_scores = pd.read_csv(\"MathScoreTerm1.csv\")\n",
    "physics_scores = pd.read_csv(\"PhysicsScoreTerm1.csv\")\n",
    "ethinicity = dss_scores['Ethinicity']\n",
    "dss_scores.drop([\"Ethinicity\",\"Name\",\"Age\",\"Sex\"],axis=1,inplace=True)\n",
    "math_scores.drop([\"Ethinicity\",\"Name\",\"Age\",\"Sex\"],axis=1,inplace=True)\n",
    "physics_scores.drop([\"Name\"],axis=1,inplace=True)\n",
    "print(dss_scores.head())\n",
    "print(math_scores.head())\n",
    "print(physics_scores.head())\n",
    "print(ethinicity.unique())"
   ]
  },
  {
   "cell_type": "code",
   "execution_count": 107,
   "metadata": {},
   "outputs": [
    {
     "name": "stdout",
     "output_type": "stream",
     "text": [
      "   Score_x      Subject_x  ID  Score_y Subject_y  Score  Age  \\\n",
      "0     82.0  Data Structue   1     88.0     Maths   84.0   18   \n",
      "1     79.0  Data Structue   2     85.0     Maths   81.0   19   \n",
      "2     39.0  Data Structue   3     45.0     Maths   41.0   19   \n",
      "3     76.0  Data Structue   4     82.0     Maths   78.0   18   \n",
      "4     76.0  Data Structue   5     82.0     Maths   78.0   18   \n",
      "\n",
      "          Ethinicity  Subject Sex  \n",
      "0     White American  Physics   M  \n",
      "1  European American  Physics   M  \n",
      "2  European American  Physics   M  \n",
      "3     White American  Physics   M  \n",
      "4     White American  Physics   F  \n"
     ]
    }
   ],
   "source": [
    "scores = pd.merge(dss_scores,math_scores,on=\"ID\")\n",
    "scores = pd.merge(scores,physics_scores, on=\"ID\")\n",
    "scores['Score'].fillna(0,inplace=True)\n",
    "scores['Score_x'].fillna(0,inplace=True)\n",
    "scores['Score_y'].fillna(0,inplace=True)\n",
    "# scores.fillna()\n",
    "print(scores.head())\n"
   ]
  },
  {
   "cell_type": "code",
   "execution_count": 108,
   "metadata": {},
   "outputs": [],
   "source": [
    "# replacing M and F with 1 and 2\n",
    "scores.replace(inplace=True,to_replace=({'M':1,'F':2}))"
   ]
  },
  {
   "cell_type": "code",
   "execution_count": 109,
   "metadata": {},
   "outputs": [
    {
     "name": "stdout",
     "output_type": "stream",
     "text": [
      "   Score_x      Subject_x  ID  Score_y Subject_y  Score  Age  \\\n",
      "0     82.0  Data Structue   1     88.0     Maths   84.0   18   \n",
      "1     79.0  Data Structue   2     85.0     Maths   81.0   19   \n",
      "2     39.0  Data Structue   3     45.0     Maths   41.0   19   \n",
      "3     76.0  Data Structue   4     82.0     Maths   78.0   18   \n",
      "4     76.0  Data Structue   5     82.0     Maths   78.0   18   \n",
      "\n",
      "          Ethinicity  Subject  Sex  \n",
      "0     White American  Physics    1  \n",
      "1  European American  Physics    1  \n",
      "2  European American  Physics    1  \n",
      "3     White American  Physics    1  \n",
      "4     White American  Physics    2  \n"
     ]
    }
   ],
   "source": [
    "print(scores.head())"
   ]
  },
  {
   "cell_type": "code",
   "execution_count": 110,
   "metadata": {},
   "outputs": [
    {
     "name": "stdout",
     "output_type": "stream",
     "text": [
      "   Data Structures      Subject_x  ID  Maths Subject_y  Physics  Age  \\\n",
      "0             82.0  Data Structue   1   88.0     Maths     84.0   18   \n",
      "1             79.0  Data Structue   2   85.0     Maths     81.0   19   \n",
      "2             39.0  Data Structue   3   45.0     Maths     41.0   19   \n",
      "3             76.0  Data Structue   4   82.0     Maths     78.0   18   \n",
      "4             76.0  Data Structue   5   82.0     Maths     78.0   18   \n",
      "\n",
      "          Ethinicity  Subject  Sex  \n",
      "0     White American  Physics    1  \n",
      "1  European American  Physics    1  \n",
      "2  European American  Physics    1  \n",
      "3     White American  Physics    1  \n",
      "4     White American  Physics    2  \n"
     ]
    }
   ],
   "source": [
    "# replacing the score_column with thier subject name\n",
    "scores.rename(columns={'Score_x':'Data Structures','Score_y':'Maths','Score':'Physics'},inplace=True)\n",
    "print(scores.head())"
   ]
  },
  {
   "cell_type": "code",
   "execution_count": 111,
   "metadata": {},
   "outputs": [],
   "source": [
    "# droping columns which are not needed\n",
    "scores.drop(['Subject_x','Subject_y','Subject'],axis=1,inplace=True)"
   ]
  },
  {
   "cell_type": "code",
   "execution_count": 112,
   "metadata": {},
   "outputs": [
    {
     "name": "stdout",
     "output_type": "stream",
     "text": [
      "   Data Structures  ID  Maths  Physics  Age         Ethinicity  Sex\n",
      "0             82.0   1   88.0     84.0   18     White American    1\n",
      "1             79.0   2   85.0     81.0   19  European American    1\n",
      "2             39.0   3   45.0     41.0   19  European American    1\n",
      "3             76.0   4   82.0     78.0   18     White American    1\n",
      "4             76.0   5   82.0     78.0   18     White American    2\n"
     ]
    }
   ],
   "source": [
    "print(scores.head())"
   ]
  },
  {
   "cell_type": "code",
   "execution_count": 113,
   "metadata": {},
   "outputs": [
    {
     "name": "stdout",
     "output_type": "stream",
     "text": [
      "   Data Structures  ID  Maths  Physics  Age Ethinicity  Sex\n",
      "0             82.0   1   88.0     84.0   18         WA    1\n",
      "1             79.0   2   85.0     81.0   19         EA    1\n",
      "2             39.0   3   45.0     41.0   19         EA    1\n",
      "3             76.0   4   82.0     78.0   18         WA    1\n",
      "4             76.0   5   82.0     78.0   18         WA    2\n"
     ]
    }
   ],
   "source": [
    "# replacing Ethinicity with codes.\n",
    "scores.replace(to_replace={'White American':'WA','European American':'EA','Hispanic':'H','African American':'AA'},inplace=True)\n",
    "print(scores.head())"
   ]
  },
  {
   "cell_type": "code",
   "execution_count": 115,
   "metadata": {},
   "outputs": [
    {
     "name": "stdout",
     "output_type": "stream",
     "text": [
      "67.45409015025042\n"
     ]
    }
   ],
   "source": [
    "print(scores['Data Structures'].mean())"
   ]
  },
  {
   "cell_type": "code",
   "execution_count": 118,
   "metadata": {},
   "outputs": [
    {
     "data": {
      "text/plain": [
       "0    82.0\n",
       "1    79.0\n",
       "2    39.0\n",
       "3    76.0\n",
       "4    76.0\n",
       "Name: Data Structures, dtype: float64"
      ]
     },
     "execution_count": 118,
     "metadata": {},
     "output_type": "execute_result"
    }
   ],
   "source": [
    "scores['Data Structures'].head()"
   ]
  },
  {
   "cell_type": "markdown",
   "metadata": {},
   "source": [
    "### Doubt: Why does .map not work? also I would like to understand .map() fucntion, I read the documentation but did not understand."
   ]
  },
  {
   "cell_type": "code",
   "execution_count": 119,
   "metadata": {},
   "outputs": [
    {
     "data": {
      "text/plain": [
       "0   NaN\n",
       "1   NaN\n",
       "2   NaN\n",
       "3   NaN\n",
       "4   NaN\n",
       "Name: Data Structures, dtype: float64"
      ]
     },
     "execution_count": 119,
     "metadata": {},
     "output_type": "execute_result"
    }
   ],
   "source": [
    "scores['Data Structures'].map({0.0:67.45}).head()"
   ]
  },
  {
   "cell_type": "code",
   "execution_count": 121,
   "metadata": {},
   "outputs": [
    {
     "data": {
      "text/plain": [
       "0    82.0\n",
       "1    79.0\n",
       "2    39.0\n",
       "3    76.0\n",
       "4    76.0\n",
       "Name: Data Structures, dtype: float64"
      ]
     },
     "execution_count": 121,
     "metadata": {},
     "output_type": "execute_result"
    }
   ],
   "source": [
    "scores['Data Structures'].replace(0.0,67.45).head()"
   ]
  },
  {
   "cell_type": "code",
   "execution_count": 122,
   "metadata": {},
   "outputs": [
    {
     "name": "stdout",
     "output_type": "stream",
     "text": [
      "   Data Structures  ID  Maths  Physics  Age Ethinicity  Sex\n",
      "0             82.0   1   88.0     84.0   18         WA    1\n",
      "1             79.0   2   85.0     81.0   19         EA    1\n",
      "2             39.0   3   45.0     41.0   19         EA    1\n",
      "3             76.0   4   82.0     78.0   18         WA    1\n",
      "4             76.0   5   82.0     78.0   18         WA    2\n"
     ]
    }
   ],
   "source": [
    "# replacing the 0 scores with the average of the class.\n",
    "scores['Data Structures'].replace(0.0,scores['Data Structures'].mean(),inplace = True)\n",
    "scores['Maths'].replace(0.0,scores['Maths'].mean(),inplace=True)\n",
    "scores['Physics'].replace(0.0,scores['Physics'].mean(), inplace=True)\n",
    "print(scores.head())"
   ]
  },
  {
   "cell_type": "code",
   "execution_count": 126,
   "metadata": {},
   "outputs": [],
   "source": [
    "scores.to_csv('ScoreFinal.csv',index=False)"
   ]
  }
 ],
 "metadata": {
  "kernelspec": {
   "display_name": "Python 3",
   "language": "python",
   "name": "python3"
  },
  "language_info": {
   "codemirror_mode": {
    "name": "ipython",
    "version": 3
   },
   "file_extension": ".py",
   "mimetype": "text/x-python",
   "name": "python",
   "nbconvert_exporter": "python",
   "pygments_lexer": "ipython3",
   "version": "3.7.1"
  }
 },
 "nbformat": 4,
 "nbformat_minor": 2
}
