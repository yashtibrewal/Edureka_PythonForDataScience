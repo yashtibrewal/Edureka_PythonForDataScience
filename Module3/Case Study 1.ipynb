{
 "cells": [
  {
   "cell_type": "markdown",
   "metadata": {},
   "source": [
    "# Case Study"
   ]
  },
  {
   "cell_type": "markdown",
   "metadata": {},
   "source": [
    "### Question 1"
   ]
  },
  {
   "cell_type": "raw",
   "metadata": {},
   "source": [
    "1.A Robot moves in a Plane starting from the origin point (0,0). The robot can move toward UP, DOWN, LEFT, RIGHT. The trace of Robot movement is as given following:\n",
    "UP 5\n",
    "DOWN 3\n",
    "LEFT 3\n",
    "RIGHT 2\n",
    "The numbers after directions are steps.  Write a program to compute the distance current position after sequence of movements.Hint: Use math module"
   ]
  },
  {
   "cell_type": "code",
   "execution_count": 16,
   "metadata": {},
   "outputs": [
    {
     "name": "stdout",
     "output_type": "stream",
     "text": [
      "Distance :  2.23606797749979\n"
     ]
    }
   ],
   "source": [
    "import math\n",
    "\n",
    "class Robot():\n",
    "    \n",
    "    def __init__(self):\n",
    "        self.up = 0\n",
    "        self.down = 0\n",
    "        self.left = 0\n",
    "        self.right = 0\n",
    "        self.x = 0\n",
    "        self.y = 0\n",
    "        self.distance = 0\n",
    "    \n",
    "    def __calculateDistance__(self):\n",
    "        self.distance = 0.0\n",
    "        xDisplacement = self.up - self.down\n",
    "        yDisplacement = self.right - self.left\n",
    "        self.distance = math.sqrt(xDisplacement**2 + yDisplacement**2)\n",
    "\n",
    "robot = Robot()\n",
    "robot.up = 5\n",
    "robot.down = 3\n",
    "robot.left = 3\n",
    "robot.right = 2\n",
    "robot.__calculateDistance__()\n",
    "print(\"Distance : \" , robot.distance)"
   ]
  },
  {
   "cell_type": "markdown",
   "metadata": {},
   "source": [
    "### Question 2"
   ]
  },
  {
   "cell_type": "raw",
   "metadata": {},
   "source": [
    "2.Data of XYZ company is stored in sorted list. Write a program for searching specific data from that list.Hint: Use if/elif to deal with conditions"
   ]
  },
  {
   "cell_type": "code",
   "execution_count": 27,
   "metadata": {},
   "outputs": [
    {
     "name": "stdout",
     "output_type": "stream",
     "text": [
      "enter the key: 1\n",
      "<class 'int'>\n",
      "data1\n"
     ]
    }
   ],
   "source": [
    "#key refers to the primary key of a table stored.\n",
    "key1 = 1\n",
    "key2 = 2\n",
    "key3 = 3\n",
    "Data = {key1:\"data1\", key2:\"data2\", key3:\"data3\"}\n",
    "key = eval(input (\"enter the key: \"))\n",
    "print(Data[key])"
   ]
  },
  {
   "cell_type": "markdown",
   "metadata": {},
   "source": [
    "### Question 3"
   ]
  },
  {
   "cell_type": "raw",
   "metadata": {},
   "source": [
    "3.Weather forecasting organization wants to show is it day or night. So, write a program for such organization to find whether is it dark outside or not.Hint: Use time module."
   ]
  },
  {
   "cell_type": "code",
   "execution_count": 54,
   "metadata": {},
   "outputs": [
    {
     "name": "stdout",
     "output_type": "stream",
     "text": [
      "23\n",
      "dark\n"
     ]
    }
   ],
   "source": [
    "import datetime\n",
    "currentDate = datetime.datetime.now() \n",
    "#print(currentDate.hour)\n",
    "if(6 < currentDate.hour < 18 ):\n",
    "    print(\"not dark\")\n",
    "else:\n",
    "    print(\"dark\")"
   ]
  },
  {
   "cell_type": "markdown",
   "metadata": {},
   "source": [
    "### Question 4"
   ]
  },
  {
   "cell_type": "raw",
   "metadata": {},
   "source": [
    "4.Write a program to find distance between two locations when their latitude and longitudes are given.Hint: Use math module."
   ]
  },
  {
   "cell_type": "code",
   "execution_count": null,
   "metadata": {},
   "outputs": [],
   "source": [
    "location1 = (14.5, 15.3)\n",
    "location2 = (124.34,-124.32)\n",
    "# need help, cannot solve this question."
   ]
  },
  {
   "cell_type": "code",
   "execution_count": 55,
   "metadata": {},
   "outputs": [
    {
     "data": {
      "text/plain": [
       "'\\nabc\\n'"
      ]
     },
     "execution_count": 55,
     "metadata": {},
     "output_type": "execute_result"
    }
   ],
   "source": [
    "\"\"\"\n",
    "abc\n",
    "\"\"\""
   ]
  },
  {
   "cell_type": "markdown",
   "metadata": {},
   "source": [
    "### Question 5"
   ]
  },
  {
   "cell_type": "raw",
   "metadata": {},
   "source": [
    "5.Design a software for bank system. There should be options like cash withdraw, cash credit and change password. According to user input, the software should provide required output.Hint: Use if else statements and functions."
   ]
  },
  {
   "cell_type": "code",
   "execution_count": 1,
   "metadata": {},
   "outputs": [
    {
     "name": "stdout",
     "output_type": "stream",
     "text": [
      "Enter Password\n",
      "initial\n",
      "1.Withdraw\n",
      "2.Cash Credit\n",
      "3.Change Password\n",
      "4.Exit\n",
      "1\n",
      "Enter the amount\n",
      "200\n",
      "Withdrawn  200\n",
      "New Balance is  300\n",
      "1.Withdraw\n",
      "2.Cash Credit\n",
      "3.Change Password\n",
      "4.Exit\n",
      "1\n",
      "Enter the amount\n",
      "30\n",
      "Withdrawn  30\n",
      "New Balance is  270\n",
      "1.Withdraw\n",
      "2.Cash Credit\n",
      "3.Change Password\n",
      "4.Exit\n",
      "4\n"
     ]
    }
   ],
   "source": [
    "class Account:\n",
    "\n",
    "    def __init__(self):\n",
    "        self.password = 'initial'\n",
    "        self.account_balance = 500\n",
    "        self.max_limit = 1000000\n",
    "\n",
    "    def withdraw(self, amount):\n",
    "        if self.account_balance >= amount:\n",
    "            print(\"Withdrawn \", amount)\n",
    "            self.account_balance -= amount\n",
    "            self.printBalance()\n",
    "        else:\n",
    "            print(\"Balance too low\")\n",
    "\n",
    "    def credit(self, amount):\n",
    "        if self.account_balance + amount <= self.max_limit:\n",
    "            print(\"Credited \", amount)\n",
    "            self.account_balance += amount\n",
    "            self.printBalance()\n",
    "        else:\n",
    "            print(\"Max limit reached\")\n",
    "\n",
    "    def changePassword(self, new_password):\n",
    "        self.password = new_password\n",
    "        print(\"New Password is \", password)\n",
    "\n",
    "    def printBalance(self):\n",
    "        print(\"New Balance is \",self.account_balance)\n",
    "\n",
    "if __name__ == \"__main__\":\n",
    "    acc = Account()\n",
    "    password = input(\"Enter Password\\n\")\n",
    "    if password == 'initial':\n",
    "        while 1:\n",
    "            user_input = eval(input(\"1.Withdraw\\n2.Cash Credit\\n3.Change Password\\n4.Exit\\n\"))\n",
    "            if user_input == 1:\n",
    "                amount = eval(input(\"Enter the amount\\n\"))\n",
    "                acc.withdraw(amount)\n",
    "            elif user_input == 2:\n",
    "                amount = eval(input(\"Enter the amount\\n\"))\n",
    "                acc.credit(amount)\n",
    "            elif user_input == 3:\n",
    "                password = eval(input(\"Enter the new password\\n\"))\n",
    "                acc.changePassword(password)\n",
    "            elif user_input == 4:\n",
    "                break\n",
    "            else:\n",
    "                print(\"Retry\")\n",
    "    else:\n",
    "        print(\"Wrong password\")\n"
   ]
  },
  {
   "cell_type": "code",
   "execution_count": null,
   "metadata": {},
   "outputs": [],
   "source": []
  }
 ],
 "metadata": {
  "kernelspec": {
   "display_name": "Python 3",
   "language": "python",
   "name": "python3"
  },
  "language_info": {
   "codemirror_mode": {
    "name": "ipython",
    "version": 3
   },
   "file_extension": ".py",
   "mimetype": "text/x-python",
   "name": "python",
   "nbconvert_exporter": "python",
   "pygments_lexer": "ipython3",
   "version": "3.6.6"
  }
 },
 "nbformat": 4,
 "nbformat_minor": 2
}
