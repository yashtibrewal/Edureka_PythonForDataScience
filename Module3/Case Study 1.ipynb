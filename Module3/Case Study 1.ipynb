{
 "cells": [
  {
   "cell_type": "markdown",
   "metadata": {},
   "source": [
    "# Case Study"
   ]
  },
  {
   "cell_type": "markdown",
   "metadata": {},
   "source": [
    "### Question 1"
   ]
  },
  {
   "cell_type": "raw",
   "metadata": {},
   "source": [
    "1.A Robot moves in a Plane starting from the origin point (0,0). The robot can move toward UP, DOWN, LEFT, RIGHT. The trace of Robot movement is as given following:\n",
    "UP 5\n",
    "DOWN 3\n",
    "LEFT 3\n",
    "RIGHT 2\n",
    "The numbers after directions are steps.  Write a program to compute the distance current position after sequence of movements.Hint: Use math module"
   ]
  },
  {
   "cell_type": "code",
   "execution_count": 16,
   "metadata": {},
   "outputs": [
    {
     "name": "stdout",
     "output_type": "stream",
     "text": [
      "Distance :  2.23606797749979\n"
     ]
    }
   ],
   "source": [
    "import math\n",
    "\n",
    "class Robot():\n",
    "    \n",
    "    def __init__(self):\n",
    "        self.up = 0\n",
    "        self.down = 0\n",
    "        self.left = 0\n",
    "        self.right = 0\n",
    "        self.x = 0\n",
    "        self.y = 0\n",
    "        self.distance = 0\n",
    "    \n",
    "    def __calculateDistance__(self):\n",
    "        self.distance = 0.0\n",
    "        xDisplacement = self.up - self.down\n",
    "        yDisplacement = self.right - self.left\n",
    "        self.distance = math.sqrt(xDisplacement**2 + yDisplacement**2)\n",
    "\n",
    "robot = Robot()\n",
    "robot.up = 5\n",
    "robot.down = 3\n",
    "robot.left = 3\n",
    "robot.right = 2\n",
    "robot.__calculateDistance__()\n",
    "print(\"Distance : \" , robot.distance)"
   ]
  },
  {
   "cell_type": "markdown",
   "metadata": {},
   "source": [
    "### Question 2"
   ]
  },
  {
   "cell_type": "raw",
   "metadata": {},
   "source": [
    "2.Data of XYZ company is stored in sorted list. Write a program for searching specific data from that list.Hint: Use if/elif to deal with conditions"
   ]
  },
  {
   "cell_type": "code",
   "execution_count": 27,
   "metadata": {},
   "outputs": [
    {
     "name": "stdout",
     "output_type": "stream",
     "text": [
      "enter the key: 1\n",
      "<class 'int'>\n",
      "data1\n"
     ]
    }
   ],
   "source": [
    "#key refers to the primary key of a table stored.\n",
    "key1 = 1\n",
    "key2 = 2\n",
    "key3 = 3\n",
    "Data = {key1:\"data1\", key2:\"data2\", key3:\"data3\"}\n",
    "key = eval(input (\"enter the key: \"))\n",
    "print(Data[key])"
   ]
  },
  {
   "cell_type": "markdown",
   "metadata": {},
   "source": [
    "### Question 3"
   ]
  },
  {
   "cell_type": "raw",
   "metadata": {},
   "source": [
    "3.Weather forecasting organization wants to show is it day or night. So, write a program for such organization to find whether is it dark outside or not.Hint: Use time module."
   ]
  },
  {
   "cell_type": "code",
   "execution_count": 15,
   "metadata": {},
   "outputs": [
    {
     "name": "stdout",
     "output_type": "stream",
     "text": [
      "Day\n"
     ]
    }
   ],
   "source": [
    "import time\n",
    "if 6 < time.localtime()[3] < 18:\n",
    "    print(\"Day\")\n",
    "else:\n",
    "    print(\"Night\")\n"
   ]
  },
  {
   "cell_type": "markdown",
   "metadata": {},
   "source": [
    "### Question 4"
   ]
  },
  {
   "cell_type": "raw",
   "metadata": {},
   "source": [
    "4.Write a program to find distance between two locations when their latitude and longitudes are given.Hint: Use math module."
   ]
  },
  {
   "cell_type": "code",
   "execution_count": null,
   "metadata": {},
   "outputs": [],
   "source": [
    "from math import sin, cos, asin, sqrt, randian\n",
    "\n",
    "def computeDistance(long1,lat1,long2,lat2):\n",
    "    long1 = radian(long1)\n",
    "    lat1 = radian(lat1)\n",
    "    long2 = radian(long2)\n",
    "    lat2 = radian(lat2)\n",
    "    \n",
    "    dlat = lat2 - lat1\n",
    "    dlong = long2 - long1\n",
    "    \n",
    "    distance = sin(dlat/2)**2 + cos(lat1)*cos(lat2) + sin(/2)**2\n",
    "    distance = distance * 6731\n",
    "    return distance"
   ]
  },
  {
   "cell_type": "code",
   "execution_count": 55,
   "metadata": {},
   "outputs": [
    {
     "name": "stdout",
     "output_type": "stream",
     "text": [
      "111.29565258721809 km\n"
     ]
    }
   ],
   "source": [
    "import geopy.distance as d\n",
    "\n",
    "\n",
    "coords_1 = (54, 54)\n",
    "coords_2 = (53, 54)\n",
    "\n",
    "print(d.vincenty(coords_1, coords_2))"
   ]
  },
  {
   "cell_type": "markdown",
   "metadata": {},
   "source": [
    "### Question 5"
   ]
  },
  {
   "cell_type": "raw",
   "metadata": {},
   "source": [
    "5.Design a software for bank system. There should be options like cash withdraw, cash credit and change password. According to user input, the software should provide required output.Hint: Use if else statements and functions."
   ]
  },
  {
   "cell_type": "code",
   "execution_count": 1,
   "metadata": {},
   "outputs": [
    {
     "name": "stdout",
     "output_type": "stream",
     "text": [
      "Enter Password\n",
      "initial\n",
      "1.Withdraw\n",
      "2.Cash Credit\n",
      "3.Change Password\n",
      "4.Exit\n",
      "2\n",
      "Enter the amount\n",
      "100\n",
      "Credited  100\n",
      "New Balance is  600\n",
      "1.Withdraw\n",
      "2.Cash Credit\n",
      "3.Change Password\n",
      "4.Exit\n",
      "4\n"
     ]
    }
   ],
   "source": [
    "class Account:\n",
    "\n",
    "    def __init__(self):\n",
    "        self.password = 'initial'\n",
    "        self.account_balance = 500\n",
    "        self.max_limit = 1000000\n",
    "\n",
    "    def withdraw(self, amount):\n",
    "        if self.account_balance >= amount:\n",
    "            print(\"Withdrawn \", amount)\n",
    "            self.account_balance -= amount\n",
    "            self.printBalance()\n",
    "        else:\n",
    "            print(\"Balance too low\")\n",
    "\n",
    "    def credit(self, amount):\n",
    "        if self.account_balance + amount <= self.max_limit:\n",
    "            print(\"Credited \", amount)\n",
    "            self.account_balance += amount\n",
    "            self.printBalance()\n",
    "        else:\n",
    "            print(\"Max limit reached\")\n",
    "\n",
    "    def changePassword(self, new_password):\n",
    "        self.password = new_password\n",
    "        print(\"New Password is \", password)\n",
    "\n",
    "    def printBalance(self):\n",
    "        print(\"New Balance is \",self.account_balance)\n",
    "\n",
    "\n",
    "if __name__ == \"__main__\":\n",
    "    acc = Account()\n",
    "    password = input(\"Enter Password\\n\")\n",
    "    if password == 'initial':\n",
    "        while 1:\n",
    "            user_input = eval(input(\"1.Withdraw\\n2.Cash Credit\\n3.Change Password\\n4.Exit\\n\"))\n",
    "            if user_input == 1:\n",
    "                amount = eval(input(\"Enter the amount\\n\"))\n",
    "                acc.withdraw(amount)\n",
    "            elif user_input == 2:\n",
    "                amount = eval(input(\"Enter the amount\\n\"))\n",
    "                acc.credit(amount)\n",
    "            elif user_input == 3:\n",
    "                password = eval(input(\"Enter the new password\\n\"))\n",
    "                acc.changePassword(password)\n",
    "            elif user_input == 4:\n",
    "                break\n",
    "            else:\n",
    "                print(\"Retry\")\n",
    "    else:\n",
    "        print(\"Wrong password\")\n"
   ]
  },
  {
   "cell_type": "markdown",
   "metadata": {},
   "source": [
    "### Question6"
   ]
  },
  {
   "cell_type": "raw",
   "metadata": {},
   "source": [
    "6. Write a program which will find all such numbers which are divisible by 7 but are not a multiple of 5, between 2000 and 3200 (both included). The numbers obtained should be printed in a comma-separated sequence on a single line. \n",
    " "
   ]
  },
  {
   "cell_type": "code",
   "execution_count": 19,
   "metadata": {},
   "outputs": [
    {
     "name": "stdout",
     "output_type": "stream",
     "text": [
      "{3073, 2562, 2569, 2058, 3087, 2065, 3094, 2583, 2590, 2079, 3108, 2086, 3115, 2604, 2611, 2100, 3129, 2107, 3136, 2625, 2632, 2121, 3150, 2128, 3157, 2646, 2653, 2142, 3171, 2149, 3178, 2667, 2674, 2163, 3192, 2170, 3199, 2688, 2695, 2184, 2191, 2709, 2716, 2205, 2212, 2730, 2737, 2226, 2233, 2751, 2758, 2247, 2254, 2772, 2779, 2268, 2275, 2793, 2800, 2289, 2296, 2814, 2821, 2310, 2317, 2835, 2842, 2331, 2338, 2856, 2863, 2352, 2359, 2877, 2884, 2373, 2380, 2898, 2905, 2394, 2401, 2919, 2926, 2415, 2422, 2940, 2947, 2436, 2443, 2961, 2968, 2457, 2464, 2982, 2989, 2478, 2485, 3003, 3010, 2499, 2506, 3024, 2002, 3031, 2520, 2527, 2016, 3045, 2023, 3052, 2541, 2548, 2037, 3066, 2044}\n"
     ]
    }
   ],
   "source": [
    "divby7 = set([element for element in range(2000,3201) if element %7 == 0])\n",
    "divby5 = set([element for element in range(2000,3201,3)])\n",
    "print(divby7 - divby5)\n"
   ]
  },
  {
   "cell_type": "markdown",
   "metadata": {},
   "source": [
    "### Question7"
   ]
  },
  {
   "cell_type": "markdown",
   "metadata": {},
   "source": [
    "7. Write a program which can compute the factorial of a given numbers. Use recursion to find it.  \n",
    " \n",
    "Hint: Suppose the following input is supplied to the program: 8 Then, the output should be: 40320 "
   ]
  },
  {
   "cell_type": "code",
   "execution_count": 21,
   "metadata": {},
   "outputs": [
    {
     "name": "stdout",
     "output_type": "stream",
     "text": [
      "40320\n"
     ]
    }
   ],
   "source": [
    "def factorial(num):\n",
    "    if num is 0 or num is 1:\n",
    "        return 1\n",
    "    return num * factorial(num-1)\n",
    "print(factorial(8))"
   ]
  },
  {
   "cell_type": "markdown",
   "metadata": {},
   "source": [
    "### Question8"
   ]
  },
  {
   "cell_type": "raw",
   "metadata": {},
   "source": [
    "8. Write a program that calculates and prints the value according to the given formula: Q = Square root of [(2 * C * D)/H] Following are the fixed values of C and H: C is 50. H is 30. D is the variable whose values should be input to your program in a comma-      separated sequence.  \n",
    " \n",
    "      Example: Let us assume the following comma separated input sequence is given to the program: 100,150,180 The output of the program should be: 18,22,24 \n",
    " \n",
    " "
   ]
  },
  {
   "cell_type": "code",
   "execution_count": 40,
   "metadata": {},
   "outputs": [
    {
     "name": "stdout",
     "output_type": "stream",
     "text": [
      "numbers100,150,180\n",
      "18,22,24"
     ]
    }
   ],
   "source": [
    "from math import sqrt, floor\n",
    "def calculateQ(D):\n",
    "    C = 50\n",
    "    H = 30\n",
    "    Q = sqrt((2*C*D)/H)\n",
    "    return floor(Q)\n",
    "user_input = input(\"numbers\").split(\",\")\n",
    "user_input = [int(i) for i in user_input]\n",
    "result = [calculateQ(i) for i in user_input]\n",
    "for i in range(0,len(result)):\n",
    "    if i is not len(result)-1:\n",
    "        print(result[i],end=\",\")\n",
    "    else:\n",
    "        print(result[i],end=\"\")"
   ]
  },
  {
   "cell_type": "markdown",
   "metadata": {},
   "source": [
    "### Question9"
   ]
  },
  {
   "cell_type": "raw",
   "metadata": {},
   "source": [
    "9. Write a program which takes 2 digits, X,Y as input and generates a 2-dimensional array. The element value in the i-th row and j-th column of the array should be i*j. Note: i=0,1.., X-1; j=0,1,¡-Y-1. \n",
    " \n",
    "Example: Suppose the following inputs are given to the program: 3,5 Then, the output of the program should be: [[0, 0, 0, 0, 0], [0, 1, 2, 3, 4], [0, 2, 4, 6, 8]]  "
   ]
  },
  {
   "cell_type": "code",
   "execution_count": 46,
   "metadata": {},
   "outputs": [
    {
     "name": "stdout",
     "output_type": "stream",
     "text": [
      "x 3\n",
      "y 5\n",
      "[[0, 0, 0, 0, 0], [0, 1, 2, 3, 4], [0, 2, 4, 6, 8]]\n"
     ]
    }
   ],
   "source": [
    "x = eval(input(\"x \"))\n",
    "y = eval(input(\"y \"))\n",
    "result = []\n",
    "for i in range(x):\n",
    "    result.append([])\n",
    "    for j in range(y):\n",
    "        result[i].append(i*j)\n",
    "print(result)"
   ]
  },
  {
   "cell_type": "markdown",
   "metadata": {},
   "source": [
    "### Questio10"
   ]
  },
  {
   "cell_type": "raw",
   "metadata": {},
   "source": [
    "10. Write a program that accepts a comma separated sequence of words as input and prints the words in a comma-separated sequence after sorting them alphabetically.  \n",
    " \n",
    "Suppose the following input is supplied to the program:       without,hello,bag,world       \n",
    "Then, the output should be:        bag,hello,without,world "
   ]
  },
  {
   "cell_type": "code",
   "execution_count": 8,
   "metadata": {},
   "outputs": [
    {
     "name": "stdout",
     "output_type": "stream",
     "text": [
      "without,hello,bag,world\n",
      "bag,hello,without,world"
     ]
    }
   ],
   "source": [
    "user_input = (input(\"\")).split(\",\")\n",
    "# print(user_input)\n",
    "results = sorted(user_input)\n",
    "for i in range(0,len(results)):\n",
    "    if i is len(results) - 1:\n",
    "        print(results[i],end=\"\")\n",
    "    else:\n",
    "        print(results[i],end=\",\")"
   ]
  },
  {
   "cell_type": "markdown",
   "metadata": {},
   "source": [
    "### Question11"
   ]
  },
  {
   "cell_type": "raw",
   "metadata": {},
   "source": [
    "11. Write a program that accepts sequence of lines as input and prints the lines after making all characters in the sentence capitalized.\n",
    "Suppose the following input is supplied to the program:\n",
    "Hello world\n",
    "Practice makes perfect\n",
    "Then, the output should be:\n",
    "HELLO WORLD\n",
    "PRACTICE MAKES PERFECT"
   ]
  },
  {
   "cell_type": "code",
   "execution_count": null,
   "metadata": {},
   "outputs": [],
   "source": [
    "line = input(\"\")\n",
    "print(line.upper())"
   ]
  },
  {
   "cell_type": "markdown",
   "metadata": {},
   "source": [
    "### Question12"
   ]
  },
  {
   "cell_type": "raw",
   "metadata": {},
   "source": [
    "12. Write a program that accepts a sequence of whitespace separated words as input and prints the words after removing all duplicate words and sorting them alphanumerically.  Suppose the following input is supplied to the program:        hello world and practice makes perfect and hello world again       Then, the output should be:       again and hello makes perfect practice world "
   ]
  },
  {
   "cell_type": "code",
   "execution_count": 3,
   "metadata": {},
   "outputs": [
    {
     "name": "stdout",
     "output_type": "stream",
     "text": [
      "hello world and practice makes perfect and hello world again\n",
      "again and hello makes perfect practice world "
     ]
    }
   ],
   "source": [
    "user_input = sorted(list(set(input(\"\").split(\" \"))))\n",
    "for word in user_input:\n",
    "    print(word,end=\" \")"
   ]
  },
  {
   "cell_type": "markdown",
   "metadata": {},
   "source": [
    "### Question13"
   ]
  },
  {
   "cell_type": "raw",
   "metadata": {},
   "source": [
    "13. Write a program which accepts a sequence of comma separated 4 digit binary numbers as its input and then check whether they are divisible by 5 or not. The numbers that are divisible by 5 are to be printed in a comma separated sequence. \n",
    "Example: 0100,0011,1010,1001 Then the output should be: 1010 "
   ]
  },
  {
   "cell_type": "code",
   "execution_count": 13,
   "metadata": {},
   "outputs": [
    {
     "name": "stdout",
     "output_type": "stream",
     "text": [
      "0100,0011,1010,1001\n",
      "['0b1010']\n"
     ]
    }
   ],
   "source": [
    "user_input = input(\"\").split(\",\")\n",
    "user_input = [int(element,2) for element in user_input]\n",
    "print([bin(element) for element in user_input if element % 5 ==0])"
   ]
  },
  {
   "cell_type": "markdown",
   "metadata": {},
   "source": [
    "### Question14"
   ]
  },
  {
   "cell_type": "raw",
   "metadata": {},
   "source": [
    "14. Write a program that accepts a sentence and calculate the number of upper case letters and lower case letters.\n",
    "Suppose the following input is supplied to the program:\n",
    "Hello world!      \n",
    "Then, the output should be:\n",
    "UPPER CASE 1\n",
    "LOWER CASE 9"
   ]
  },
  {
   "cell_type": "code",
   "execution_count": 4,
   "metadata": {},
   "outputs": [
    {
     "name": "stdout",
     "output_type": "stream",
     "text": [
      "Hello world!\n",
      "UPPER CASE  1\n",
      "LOWER CASE  9\n"
     ]
    }
   ],
   "source": [
    "line = input(\"\")\n",
    "upper = 0\n",
    "lower = 0\n",
    "for char in line:\n",
    "    if char.isupper():\n",
    "        upper += 1\n",
    "    if char.islower():\n",
    "        lower += 1\n",
    "print(\"UPPER CASE \",upper)\n",
    "print(\"LOWER CASE \",lower)"
   ]
  },
  {
   "cell_type": "markdown",
   "metadata": {},
   "source": [
    "### Question15"
   ]
  },
  {
   "cell_type": "raw",
   "metadata": {},
   "source": [
    "15. Give example of fsum and sum function of math library. "
   ]
  },
  {
   "cell_type": "code",
   "execution_count": 11,
   "metadata": {},
   "outputs": [
    {
     "name": "stdout",
     "output_type": "stream",
     "text": [
      "68.2\n"
     ]
    }
   ],
   "source": [
    "print(math.fsum([10,20,34,2.2,2]))"
   ]
  },
  {
   "cell_type": "code",
   "execution_count": 13,
   "metadata": {},
   "outputs": [
    {
     "data": {
      "text/plain": [
       "267"
      ]
     },
     "execution_count": 13,
     "metadata": {},
     "output_type": "execute_result"
    }
   ],
   "source": [
    "sum([10,23,234])"
   ]
  }
 ],
 "metadata": {
  "kernelspec": {
   "display_name": "Python 3",
   "language": "python",
   "name": "python3"
  },
  "language_info": {
   "codemirror_mode": {
    "name": "ipython",
    "version": 3
   },
   "file_extension": ".py",
   "mimetype": "text/x-python",
   "name": "python",
   "nbconvert_exporter": "python",
   "pygments_lexer": "ipython3",
   "version": "3.6.6"
  }
 },
 "nbformat": 4,
 "nbformat_minor": 2
}
