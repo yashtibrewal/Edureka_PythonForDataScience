{
 "cells": [
  {
   "cell_type": "raw",
   "metadata": {},
   "source": [
    "Business challenge/requirement GoodsKart—largest ecommerce company of Indonesia with revenue of $2B+ acquired another ecommerce company FairDeal.  FairDeal has its own IT system to maintain records of customer, sales etc. For ease of maintenance and cost savings GoodsKart is integrating customer databases of both the organizations hence customer data of FairDeal has to be converted in GoodsKart Customer Format. \n",
    "\n",
    "Key issues GoodsKart customer data has more fields than in FairDeal customer data. Hence FairDeal data needs to be split and stored in GoodsKart Customer Object Oriented Data Structure \n",
    " \n",
    "Considerations System should convert the data at run time \n",
    " \n",
    "Data volume - NA \n",
    " \n",
    "Additional information - NA \n",
    " \n",
    "Business benefits GoodsKart can eventually sunset IT systems of FairDeal and reduce IT cost by 20 to 30%  \n",
    " \n",
    "Approach to Solve You have to use fundamentals of Python taught in module 2 \n",
    "1. Read FairDealCustomerData.csv \n",
    "2. Name field contains full name – use regular expression to separate title, first name, last name \n",
    "3. Store the data in Customer Class \n",
    "4. Create Custom Exception – CustomerNotAllowedException \n",
    "5. Pass a customer to function \"createOrder\" and throw CustomerNotAllowedException in case of blacklisted value is 1 \n",
    " \n",
    " \n",
    "Enhancements for code You can try these enhancements in code \n",
    "1. Change function createOrder to take productname and product code as input \n",
    "2. Create Class Order Return object of type Order in case customer is eligible \n",
    " \n",
    " "
   ]
  },
  {
   "cell_type": "code",
   "execution_count": 55,
   "metadata": {},
   "outputs": [
    {
     "name": "stdout",
     "output_type": "stream",
     "text": [
      "True\n"
     ]
    }
   ],
   "source": [
    "import csv\n",
    "class Customer:\n",
    "    \n",
    "    def __init__(self):\n",
    "        self.title = \"\"\n",
    "        self.fname = \"\"\n",
    "        self.lname = \"\"\n",
    "        self.blacklisted = 0\n",
    "\n",
    "    def __str__(self):\n",
    "        return \"Title:\" + self.title + \" First Name:\" \\\n",
    "        + self.fname + \" Last Name:\" + self.lname + \" Blacklisted:\"+ str(self.blacklisted)\n",
    "\n",
    "    def setIsblacklisted(self,blacklisted):\n",
    "        self.blacklisted = blacklisted\n",
    "\n",
    "    def isblacklisted(self):\n",
    "        return bool(self.blacklisted)\n",
    "\n",
    "    def setTitle(self,title):\n",
    "        self.title = title\n",
    "\n",
    "    def getTitle(self):\n",
    "        return self.title\n",
    "\n",
    "    def setFname(self,fname):\n",
    "        self.fname = fname\n",
    "\n",
    "    def getFname(self):\n",
    "        return self.fname\n",
    "\n",
    "    def setLname(self,lname):\n",
    "        self.lname = lname\n",
    "\n",
    "    def getLname(self):\n",
    "        return self.lname\n",
    "\n",
    "if __name__ == \"__main__\":\n",
    "    customer = Customer()\n",
    "    customer.setIsblacklisted(1)\n",
    "    print(customer.isblacklisted())"
   ]
  },
  {
   "cell_type": "code",
   "execution_count": 60,
   "metadata": {},
   "outputs": [],
   "source": [
    "class CustomerNotAllowedException(Exception):\n",
    "    \"\"\"Raised when the the customer is blacklisted\"\"\"\n",
    "    pass"
   ]
  },
  {
   "cell_type": "code",
   "execution_count": 84,
   "metadata": {},
   "outputs": [],
   "source": [
    "class Order:\n",
    "    \n",
    "    def __init__(self):\n",
    "        self.orderId = 0\n",
    "        self.items = ['Default']\n",
    "        self.productName = \"Default\"\n",
    "        self.productCode = 0\n",
    "    \n",
    "    def __str__(self):\n",
    "        return \"Order id:\"+str(self.orderId) + \" Itmes:\" + str(self.items)+\" ProductName:\" + self.productName \\\n",
    "        + \" ProdcutCode:\" + str(self.productCode)"
   ]
  },
  {
   "cell_type": "code",
   "execution_count": 87,
   "metadata": {},
   "outputs": [],
   "source": [
    "def createOrder(customer, productName = \"Default\", productCode = 0):\n",
    "    order = Order()\n",
    "    order.productName = productName\n",
    "    order.productCode = productCode\n",
    "    if customer.isblacklisted():\n",
    "        raise CustomerNotAllowedException\n",
    "    else:\n",
    "        print(\"oder created for \",customer)\n",
    "        return order"
   ]
  },
  {
   "cell_type": "code",
   "execution_count": 88,
   "metadata": {},
   "outputs": [
    {
     "name": "stdout",
     "output_type": "stream",
     "text": [
      "oder created for  Title:Miss. First Name:Laina Last Name: Blacklisted:0\n",
      "Order id:0 Itmes:['Default'] ProductName:Default ProdcutCode:0\n"
     ]
    }
   ],
   "source": [
    "class DataInput:\n",
    "    def __init__(self):\n",
    "        self.customers = []\n",
    "        \n",
    "    def readData(self):\n",
    "        file_reader = csv.reader(open(\"FairDealCustomerData.csv\"))\n",
    "        customers = []\n",
    "        for row in file_reader:\n",
    "            customer = Customer()\n",
    "            try:\n",
    "                customer.setIsblacklisted(int(row[2]))\n",
    "                title = row[1].split(\" \")[1]\n",
    "        #         print(title)\n",
    "                customer.setTitle(title)\n",
    "                firstName = row[1].split(\" \")[2]\n",
    "        #         print(firstName)\n",
    "                customer.setFname(firstName)\n",
    "                lastName = row[1].split(\" \")[3]\n",
    "        #         print(lastName)\n",
    "                customer.setLname(lastName)\n",
    "            except Exception as e:\n",
    "                print(row,e)\n",
    "            customers.append(customer)\n",
    "        self.customers = customers\n",
    "    \n",
    "    def getData(self):\n",
    "        return self.customers\n",
    "\n",
    "if __name__ == \"__main__\":\n",
    "    di = DataInput()\n",
    "    di.readData()\n",
    "    customers = di.getData()\n",
    "    print(createOrder(customers[1]))"
   ]
  }
 ],
 "metadata": {
  "kernelspec": {
   "display_name": "Python 3",
   "language": "python",
   "name": "python3"
  },
  "language_info": {
   "codemirror_mode": {
    "name": "ipython",
    "version": 3
   },
   "file_extension": ".py",
   "mimetype": "text/x-python",
   "name": "python",
   "nbconvert_exporter": "python",
   "pygments_lexer": "ipython3",
   "version": "3.6.6"
  }
 },
 "nbformat": 4,
 "nbformat_minor": 2
}
