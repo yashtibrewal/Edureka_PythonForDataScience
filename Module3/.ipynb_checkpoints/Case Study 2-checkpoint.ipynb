{
 "cells": [
  {
   "cell_type": "raw",
   "metadata": {},
   "source": [
    "Domain – Banking Marketing \n",
    "focus – Optimization \n",
    " \n",
    "Business challenge/requirement Bank of Portugal runs marketing campaign to offer loans to clients.  Loan is offered to only clients with particular professions. List of successful campaigns (with client data) is given in attached dataset.  You have to come up with program which reads the file and builds a set of unique profession list and given input profession of client – system tells whether client is eligible to be approached for marketing campaign. \n",
    "\n",
    "Key issues Tele Caller can only make x number of cold calls in a day. Hence to increase her effectiveness only eligible customers should be called \n",
    " \n",
    "Considerations Current system does not differentiate clients based on age and profession \n",
    " \n",
    "Data volume 447 records in bank-data.csv \n",
    " \n",
    "Additional information - NA \n",
    " \n",
    "Business benefits Company can achieve between 15% to 20% higher conversion by targeting right clients \n",
    " \n",
    "Approach to Solve\n",
    "You have to use fundamentals of Python taught in module 2\n",
    "1. Read file bank-data.csv \n",
    "2. Build a set of unique jobs\n",
    "3. Read the input from command line –profession\n",
    "4. Check if profession is in list\n",
    "5. Print whether client is eligible\n",
    "\n",
    "Enhancements for code You can try these enhancements in code \n",
    "1. Compute max and min age for loan eligibility based on data in csv file\n",
    "2. Store max and min age in dictionary\n",
    "3. Make the profession check case insensitive \n",
    "4. Currently program ends after the check. Take the input in while loop and end only if user types \"END\" for profession \n",
    " \n",
    " "
   ]
  },
  {
   "cell_type": "code",
   "execution_count": 1,
   "metadata": {},
   "outputs": [
    {
     "name": "stdout",
     "output_type": "stream",
     "text": [
      "Enter your profession END\n",
      "Enter your age END\n"
     ]
    },
    {
     "ename": "ValueError",
     "evalue": "invalid literal for int() with base 10: 'END'",
     "output_type": "error",
     "traceback": [
      "\u001b[1;31m---------------------------------------------------------------------------\u001b[0m",
      "\u001b[1;31mValueError\u001b[0m                                Traceback (most recent call last)",
      "\u001b[1;32m<ipython-input-1-f76325c929fa>\u001b[0m in \u001b[0;36m<module>\u001b[1;34m()\u001b[0m\n\u001b[0;32m     39\u001b[0m     \u001b[1;32mif\u001b[0m \u001b[0mprofession\u001b[0m \u001b[1;33m==\u001b[0m \u001b[1;34m\"END\"\u001b[0m\u001b[1;33m:\u001b[0m\u001b[1;33m\u001b[0m\u001b[0m\n\u001b[0;32m     40\u001b[0m         \u001b[1;32mbreak\u001b[0m\u001b[1;33m\u001b[0m\u001b[0m\n\u001b[1;32m---> 41\u001b[1;33m     \u001b[0mage\u001b[0m \u001b[1;33m=\u001b[0m \u001b[0mint\u001b[0m\u001b[1;33m(\u001b[0m\u001b[0minput\u001b[0m\u001b[1;33m(\u001b[0m\u001b[1;34m\"Enter your age \"\u001b[0m\u001b[1;33m)\u001b[0m\u001b[1;33m)\u001b[0m\u001b[1;33m\u001b[0m\u001b[0m\n\u001b[0m\u001b[0;32m     42\u001b[0m     \u001b[1;32mif\u001b[0m \u001b[0mprofession\u001b[0m \u001b[1;32min\u001b[0m \u001b[0mdb\u001b[0m\u001b[1;33m.\u001b[0m\u001b[0mgetJobs\u001b[0m\u001b[1;33m(\u001b[0m\u001b[1;33m)\u001b[0m \u001b[1;32mand\u001b[0m \u001b[0mmin_age\u001b[0m \u001b[1;33m<\u001b[0m \u001b[0mage\u001b[0m \u001b[1;33m<\u001b[0m \u001b[0mmax_age\u001b[0m\u001b[1;33m:\u001b[0m\u001b[1;33m\u001b[0m\u001b[0m\n\u001b[0;32m     43\u001b[0m         \u001b[0mprint\u001b[0m\u001b[1;33m(\u001b[0m\u001b[1;34m\"Eligible\"\u001b[0m\u001b[1;33m)\u001b[0m\u001b[1;33m\u001b[0m\u001b[0m\n",
      "\u001b[1;31mValueError\u001b[0m: invalid literal for int() with base 10: 'END'"
     ]
    }
   ],
   "source": [
    "import csv\n",
    "\n",
    "class DataBase:\n",
    "    \n",
    "    def __init__(self):\n",
    "        self.file = open(\"bank-data.csv\")\n",
    "        file_reader = csv.reader(self.file, delimiter=',')\n",
    "        self.jobs = []\n",
    "        self.ages = []\n",
    "        first = True\n",
    "        for row in file_reader:\n",
    "            if first: # remove the name of from excel\n",
    "                first = False\n",
    "                continue\n",
    "            self.ages.append(int(row[0]))\n",
    "            self.jobs.append(row[1].lower())\n",
    "        self.ages.pop(0)\n",
    "        self.jobs.pop(0)\n",
    "        self.ages = list(set(self.ages))\n",
    "        self.jobs = list(set(self.jobs))\n",
    "#         print(self.ages)\n",
    "#         print(self.jobs)\n",
    "    \n",
    "    def getAges(self):\n",
    "        return self.jobs, self.ages\n",
    "    \n",
    "    def getJobs(self):\n",
    "        return self.jobs\n",
    "    \n",
    "    def getAges(self):\n",
    "        return self.ages\n",
    "\n",
    "\n",
    "db = DataBase()\n",
    "ages = db.getAges()\n",
    "max_age = max(ages)\n",
    "while(1):\n",
    "    profession = input(\"Enter your profession \").lower()\n",
    "    if profession == \"end\":\n",
    "        break\n",
    "    age = int(input(\"Enter your age \"))\n",
    "    if profession in db.getJobs() and min_age < age < max_age:\n",
    "        print(\"Eligible\")\n",
    "    else:\n",
    "        print(\"Not Eligible\")"
   ]
  },
  {
   "cell_type": "code",
   "execution_count": null,
   "metadata": {},
   "outputs": [],
   "source": []
  }
 ],
 "metadata": {
  "kernelspec": {
   "display_name": "Python 3",
   "language": "python",
   "name": "python3"
  },
  "language_info": {
   "codemirror_mode": {
    "name": "ipython",
    "version": 3
   },
   "file_extension": ".py",
   "mimetype": "text/x-python",
   "name": "python",
   "nbconvert_exporter": "python",
   "pygments_lexer": "ipython3",
   "version": "3.6.6"
  }
 },
 "nbformat": 4,
 "nbformat_minor": 2
}
