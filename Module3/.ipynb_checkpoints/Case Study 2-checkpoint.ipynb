{
 "cells": [
  {
   "cell_type": "raw",
   "metadata": {},
   "source": [
    "Domain – Banking Marketing \n",
    "focus – Optimization \n",
    " \n",
    "Business challenge/requirement Bank of Portugal runs marketing campaign to offer loans to clients.  Loan is offered to only clients with particular professions. List of successful campaigns (with client data) is given in attached dataset.  You have to come up with program which reads the file and builds a set of unique profession list and given input profession of client – system tells whether client is eligible to be approached for marketing campaign. Key issues Tele Caller can only make x number of cold calls in a day. Hence to increase her effectiveness only eligible customers should be called \n",
    " \n",
    "Considerations Current system does not differentiate clients based on age and profession \n",
    " \n",
    "Data volume 447 records in bank-data.csv \n",
    " \n",
    "Additional information - NA \n",
    " \n",
    "Business benefits Company can achieve between 15% to 20% higher conversion by targeting right clients \n",
    " \n",
    "Approach to Solve\n",
    "You have to use fundamentals of Python taught in module 2\n",
    "1. Read file bank-data.csv \n",
    "2. Build a set of unique jobs\n",
    "3. Read the input from command line –profession\n",
    "4. Check if profession is in list\n",
    "5. Print whether client is eligible\n",
    "\n",
    "Enhancements for code You can try these enhancements in code \n",
    "1. Compute max and min age for loan eligibility based on data in csv file\n",
    "2. Store max and min age in dictionary\n",
    "3. Make the profession check case insensitive \n",
    "4. Currently program ends after the check. Take the input in while loop and end only if user types \"END\" for profession \n",
    " \n",
    " "
   ]
  },
  {
   "cell_type": "code",
   "execution_count": null,
   "metadata": {},
   "outputs": [],
   "source": []
  },
  {
   "cell_type": "code",
   "execution_count": null,
   "metadata": {},
   "outputs": [],
   "source": []
  }
 ],
 "metadata": {
  "kernelspec": {
   "display_name": "Python 3",
   "language": "python",
   "name": "python3"
  },
  "language_info": {
   "codemirror_mode": {
    "name": "ipython",
    "version": 3
   },
   "file_extension": ".py",
   "mimetype": "text/x-python",
   "name": "python",
   "nbconvert_exporter": "python",
   "pygments_lexer": "ipython3",
   "version": "3.6.6"
  }
 },
 "nbformat": 4,
 "nbformat_minor": 2
}
